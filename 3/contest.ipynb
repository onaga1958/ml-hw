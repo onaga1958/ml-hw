{
 "cells": [
  {
   "cell_type": "code",
   "execution_count": 1,
   "metadata": {
    "collapsed": false
   },
   "outputs": [
    {
     "name": "stderr",
     "output_type": "stream",
     "text": [
      "/usr/lib/python3.5/site-packages/sklearn/cross_validation.py:44: DeprecationWarning: This module was deprecated in version 0.18 in favor of the model_selection module into which all the refactored classes and functions are moved. Also note that the interface of the new CV iterators are different from that of this module. This module will be removed in 0.20.\n",
      "  \"This module will be removed in 0.20.\", DeprecationWarning)\n"
     ]
    }
   ],
   "source": [
    "import numpy as np\n",
    "import xgboost as xgb\n",
    "import pandas as pd\n",
    "from xgboost.sklearn import XGBRegressor\n",
    "from sklearn import model_selection, metrics\n",
    "import matplotlib.pyplot as pl\n",
    "import itertools\n",
    "\n",
    "%matplotlib inline"
   ]
  },
  {
   "cell_type": "code",
   "execution_count": 7,
   "metadata": {
    "collapsed": true
   },
   "outputs": [],
   "source": [
    "train = pd.read_csv(\"train.tsv\")"
   ]
  },
  {
   "cell_type": "code",
   "execution_count": 8,
   "metadata": {
    "collapsed": false
   },
   "outputs": [],
   "source": [
    "for i in range(1, 31):\n",
    "    for j_1, j_2 in zip(train['f{}'.format(i)], train['f{}'.format(i + 30)]):\n",
    "        if j_1 != j_2:\n",
    "            print(\"different!\")"
   ]
  },
  {
   "cell_type": "code",
   "execution_count": 9,
   "metadata": {
    "collapsed": true
   },
   "outputs": [],
   "source": [
    "train.drop([\"f{}\".format(i) for i in range(31, 61)], axis=1, inplace=True)"
   ]
  },
  {
   "cell_type": "code",
   "execution_count": 10,
   "metadata": {
    "collapsed": false
   },
   "outputs": [],
   "source": [
    "n_buckets = 100#int(train['item_id'].nunique() / 10)\n",
    "id_hash = train['item_id'].values % n_buckets\n",
    "for i in range(n_buckets):\n",
    "    train['id_hash_{}'.format(i)] = [1 if id_hash[j] == i else 0 for j in range(len(id_hash))]"
   ]
  },
  {
   "cell_type": "code",
   "execution_count": 12,
   "metadata": {
    "collapsed": false
   },
   "outputs": [],
   "source": [
    "def SMAPE(regressor, X, y):\n",
    "    prediction = regressor.predict(X)\n",
    "    result = 0\n",
    "    for ans, right_ans in zip(prediction, np.array(y)):\n",
    "        result += abs(ans - right_ans) / (abs(right_ans) + abs(ans))\n",
    "    return result * 200 / len(y)\n",
    "    \n",
    "def test_regressor(regressor, data, target, features):\n",
    "    tscv = model_selection.TimeSeriesSplit(n_splits=5)\n",
    "    score = []\n",
    "    for train_index, test_index in tscv.split(data):\n",
    "        X_train, X_test = data[features].values[train_index], data[features].values[test_index]\n",
    "        y_train, y_test = data[target].values[train_index], data[target].values[test_index]\n",
    "        regressor.fit(X_train, y_train, eval_metric='mae')\n",
    "        score.append(SMAPE(regressor, X_test, y_test))\n",
    "\n",
    "    return np.array(score).mean()\n",
    "\n",
    "def print_params(params_arr, names_arr, params):\n",
    "    for i, p, name in zip(range(len(params)), params, names_arr):\n",
    "        if len(params_arr[i]) > 1:\n",
    "            if isinstance(p, int):\n",
    "                print(\"{} = {}\".format(name, p), end=\"  \") \n",
    "            else:\n",
    "                print(\"{} = {:.4f}\".format(name, p), end=\"  \")  \n",
    "\n",
    "def get_best_params(params_arr, names_arr, train, target, features):\n",
    "    maximum = 200\n",
    "    best_params = []\n",
    "    for params in itertools.product(*params_arr):\n",
    "        param_dict = {}\n",
    "        for i, name in enumerate(names_arr):\n",
    "            param_dict[name] = params[i]\n",
    "        print_params(params_arr, names_arr, params)\n",
    "        result = test_regressor(XGBRegressor(**param_dict), train, target, features)\n",
    "        print(\"SMPAE = {:.4f}\".format(result))\n",
    "        if (result < maximum):\n",
    "            maximum = result\n",
    "            best_params = params\n",
    "    print(\"best parametrs:\")\n",
    "    print_params(params_arr, names_arr, best_params)"
   ]
  },
  {
   "cell_type": "code",
   "execution_count": 45,
   "metadata": {
    "collapsed": true
   },
   "outputs": [],
   "source": [
    "target = ['y']\n",
    "features = [x for x in train.columns if x not in ['y', 'item_id', 'Num', 'year', 'week', 'shift']]\n",
    "param_names = ['learning_rate',\n",
    "               'n_estimators',\n",
    "               'max_depth',\n",
    "               'min_child_weight',\n",
    "               'gamma',\n",
    "               'subsample',\n",
    "               'colsample_bytree',\n",
    "               'nthread',\n",
    "               'seed',\n",
    "               'reg_alpha'\n",
    "              ]"
   ]
  },
  {
   "cell_type": "code",
   "execution_count": 46,
   "metadata": {
    "collapsed": false
   },
   "outputs": [
    {
     "name": "stdout",
     "output_type": "stream",
     "text": [
      "n_estimators = 1  SMPAE = 149.5773\n",
      "n_estimators = 11  SMPAE = 52.8662\n",
      "n_estimators = 21  SMPAE = 40.8768\n",
      "n_estimators = 31  SMPAE = 40.8074\n",
      "n_estimators = 41  SMPAE = 43.9632\n",
      "n_estimators = 51  SMPAE = 46.8504\n",
      "n_estimators = 61  SMPAE = 47.6556\n",
      "n_estimators = 71  SMPAE = 47.7299\n",
      "n_estimators = 81  SMPAE = 47.6907\n",
      "n_estimators = 91  SMPAE = 47.4650\n",
      "n_estimators = 101  SMPAE = 47.3913\n",
      "n_estimators = 111  SMPAE = 47.3360\n",
      "n_estimators = 121  SMPAE = 47.2482\n",
      "best parametrs:\n",
      "n_estimators = 31  "
     ]
    }
   ],
   "source": [
    "params_1 = [[0.1], range(1, 130, 10), [5], [1], [0], [0.8], [0.8], [4], [27], [0]]\n",
    "get_best_params(params_1, param_names, train, target, features)"
   ]
  },
  {
   "cell_type": "code",
   "execution_count": 47,
   "metadata": {
    "collapsed": false
   },
   "outputs": [
    {
     "name": "stdout",
     "output_type": "stream",
     "text": [
      "n_estimators = 22  SMPAE = 40.4075\n",
      "n_estimators = 24  SMPAE = 39.9762\n",
      "n_estimators = 26  SMPAE = 40.0378\n",
      "n_estimators = 28  SMPAE = 40.4735\n",
      "n_estimators = 30  SMPAE = 40.7290\n",
      "n_estimators = 32  SMPAE = 41.0926\n",
      "n_estimators = 34  SMPAE = 41.5178\n",
      "n_estimators = 36  SMPAE = 41.9667\n",
      "n_estimators = 38  SMPAE = 42.8993\n",
      "n_estimators = 40  SMPAE = 43.6588\n",
      "best parametrs:\n",
      "n_estimators = 24  "
     ]
    }
   ],
   "source": [
    "params_1_b = [[0.1], range(22, 41, 2), [5], [1], [0], [0.8], [0.8], [4], [27], [0]]\n",
    "get_best_params(params_1_b, param_names, train, target, features)"
   ]
  },
  {
   "cell_type": "code",
   "execution_count": 48,
   "metadata": {
    "collapsed": false
   },
   "outputs": [
    {
     "name": "stdout",
     "output_type": "stream",
     "text": [
      "max_depth = 3  min_child_weight = 1  SMPAE = 55.4193\n",
      "max_depth = 3  min_child_weight = 2  SMPAE = 55.4193\n",
      "max_depth = 3  min_child_weight = 3  SMPAE = 55.4192\n",
      "max_depth = 3  min_child_weight = 4  SMPAE = 55.4195\n",
      "max_depth = 3  min_child_weight = 5  SMPAE = 55.4206\n",
      "max_depth = 4  min_child_weight = 1  SMPAE = 45.4621\n",
      "max_depth = 4  min_child_weight = 2  SMPAE = 45.4617\n",
      "max_depth = 4  min_child_weight = 3  SMPAE = 45.6498\n",
      "max_depth = 4  min_child_weight = 4  SMPAE = 45.8119\n",
      "max_depth = 4  min_child_weight = 5  SMPAE = 45.7016\n",
      "max_depth = 5  min_child_weight = 1  SMPAE = 39.9762\n",
      "max_depth = 5  min_child_weight = 2  SMPAE = 40.3371\n",
      "max_depth = 5  min_child_weight = 3  SMPAE = 40.3514\n",
      "max_depth = 5  min_child_weight = 4  SMPAE = 40.0614\n",
      "max_depth = 5  min_child_weight = 5  SMPAE = 40.1059\n",
      "max_depth = 6  min_child_weight = 1  SMPAE = 37.2978\n",
      "max_depth = 6  min_child_weight = 2  SMPAE = 37.3284\n",
      "max_depth = 6  min_child_weight = 3  SMPAE = 36.9981\n",
      "max_depth = 6  min_child_weight = 4  SMPAE = 36.9379\n",
      "max_depth = 6  min_child_weight = 5  SMPAE = 37.0951\n",
      "max_depth = 7  min_child_weight = 1  SMPAE = 35.1735\n",
      "max_depth = 7  min_child_weight = 2  SMPAE = 35.2387\n",
      "max_depth = 7  min_child_weight = 3  SMPAE = 35.1972\n",
      "max_depth = 7  min_child_weight = 4  SMPAE = 35.2308\n",
      "max_depth = 7  min_child_weight = 5  SMPAE = 35.0661\n",
      "max_depth = 8  min_child_weight = 1  SMPAE = 33.9955\n",
      "max_depth = 8  min_child_weight = 2  SMPAE = 33.7296\n",
      "max_depth = 8  min_child_weight = 3  SMPAE = 33.8267\n",
      "max_depth = 8  min_child_weight = 4  SMPAE = 33.6368\n",
      "max_depth = 8  min_child_weight = 5  SMPAE = 33.6372\n",
      "max_depth = 9  min_child_weight = 1  SMPAE = 33.0141\n",
      "max_depth = 9  min_child_weight = 2  SMPAE = 33.1522\n",
      "max_depth = 9  min_child_weight = 3  SMPAE = 32.8389\n",
      "max_depth = 9  min_child_weight = 4  SMPAE = 32.4955\n",
      "max_depth = 9  min_child_weight = 5  SMPAE = 32.6942\n",
      "max_depth = 10  min_child_weight = 1  SMPAE = 31.9186\n",
      "max_depth = 10  min_child_weight = 2  SMPAE = 31.8921\n",
      "max_depth = 10  min_child_weight = 3  SMPAE = 31.9309\n",
      "max_depth = 10  min_child_weight = 4  SMPAE = 31.7452\n",
      "max_depth = 10  min_child_weight = 5  SMPAE = 31.7087\n",
      "best parametrs:\n",
      "max_depth = 10  min_child_weight = 5  "
     ]
    }
   ],
   "source": [
    "params_2 = [[0.1], [24], range(3, 11), range(1, 6), [0], [0.8], [0.8], [4], [27], [0]]\n",
    "get_best_params(params_2, param_names, train, target, features)"
   ]
  },
  {
   "cell_type": "code",
   "execution_count": 55,
   "metadata": {
    "collapsed": false
   },
   "outputs": [
    {
     "name": "stdout",
     "output_type": "stream",
     "text": [
      "gamma = 0.0000  SMPAE = 31.7087\n",
      "gamma = 0.1250  SMPAE = 31.7087\n",
      "gamma = 0.2500  SMPAE = 31.7087\n",
      "gamma = 0.3750  SMPAE = 31.7087\n",
      "gamma = 0.5000  SMPAE = 31.7087\n",
      "best parametrs:\n",
      "gamma = 0.0000  "
     ]
    }
   ],
   "source": [
    "params_3 = [[0.1], [24], [10], [5], np.linspace(0, 0.5, 5), [0.8], [0.8], [4], [27], [0]]\n",
    "get_best_params(params_3, param_names, train, target, features)"
   ]
  },
  {
   "cell_type": "code",
   "execution_count": 56,
   "metadata": {
    "collapsed": false
   },
   "outputs": [
    {
     "name": "stdout",
     "output_type": "stream",
     "text": [
      "subsample = 0.6000  colsample_bytree = 0.6000  SMPAE = 32.2377\n",
      "subsample = 0.6000  colsample_bytree = 0.6750  SMPAE = 32.2689\n",
      "subsample = 0.6000  colsample_bytree = 0.7500  SMPAE = 32.0564\n",
      "subsample = 0.6000  colsample_bytree = 0.8250  SMPAE = 31.9782\n",
      "subsample = 0.6000  colsample_bytree = 0.9000  SMPAE = 31.9620\n",
      "subsample = 0.6750  colsample_bytree = 0.6000  SMPAE = 32.1754\n",
      "subsample = 0.6750  colsample_bytree = 0.6750  SMPAE = 32.0014\n",
      "subsample = 0.6750  colsample_bytree = 0.7500  SMPAE = 31.9735\n",
      "subsample = 0.6750  colsample_bytree = 0.8250  SMPAE = 31.8435\n",
      "subsample = 0.6750  colsample_bytree = 0.9000  SMPAE = 31.9281\n",
      "subsample = 0.7500  colsample_bytree = 0.6000  SMPAE = 32.0154\n",
      "subsample = 0.7500  colsample_bytree = 0.6750  SMPAE = 31.8555\n",
      "subsample = 0.7500  colsample_bytree = 0.7500  SMPAE = 31.8459\n",
      "subsample = 0.7500  colsample_bytree = 0.8250  SMPAE = 31.7773\n",
      "subsample = 0.7500  colsample_bytree = 0.9000  SMPAE = 31.7234\n",
      "subsample = 0.8250  colsample_bytree = 0.6000  SMPAE = 31.8629\n",
      "subsample = 0.8250  colsample_bytree = 0.6750  SMPAE = 31.9400\n",
      "subsample = 0.8250  colsample_bytree = 0.7500  SMPAE = 31.7353\n",
      "subsample = 0.8250  colsample_bytree = 0.8250  SMPAE = 31.7392\n",
      "subsample = 0.8250  colsample_bytree = 0.9000  SMPAE = 31.8034\n",
      "subsample = 0.9000  colsample_bytree = 0.6000  SMPAE = 31.9482\n",
      "subsample = 0.9000  colsample_bytree = 0.6750  SMPAE = 31.9302\n",
      "subsample = 0.9000  colsample_bytree = 0.7500  SMPAE = 31.7087\n",
      "subsample = 0.9000  colsample_bytree = 0.8250  SMPAE = 31.6803\n",
      "subsample = 0.9000  colsample_bytree = 0.9000  SMPAE = 31.8091\n",
      "best parametrs:\n",
      "subsample = 0.9000  colsample_bytree = 0.8250  "
     ]
    }
   ],
   "source": [
    "params_4 = [[0.1], [24], [10], [5], [0], np.linspace(0.6, 0.9, 5),\n",
    "            np.linspace(0.6, 0.9, 5), [4], [27], [0]]\n",
    "get_best_params(params_4, param_names, train, target, features)"
   ]
  },
  {
   "cell_type": "code",
   "execution_count": 57,
   "metadata": {
    "collapsed": false
   },
   "outputs": [
    {
     "name": "stdout",
     "output_type": "stream",
     "text": [
      "reg_alpha = 10000  SMPAE = 31.7576\n",
      "reg_alpha = 100  SMPAE = 31.8022\n",
      "reg_alpha = 10  SMPAE = 31.7610\n",
      "reg_alpha = 1  SMPAE = 31.7610\n",
      "reg_alpha = 0.1000  SMPAE = 31.6803\n",
      "best parametrs:\n",
      "reg_alpha = 0.1000  "
     ]
    }
   ],
   "source": [
    "params_5 = [[0.1], [24], [10], [5], [0], [0.9], [0.825], [4], [27], [10**(i) for i in [4, 2, 1, 0, -1]]]\n",
    "get_best_params(params_5, param_names, train, target, features)"
   ]
  },
  {
   "cell_type": "code",
   "execution_count": 58,
   "metadata": {
    "collapsed": false
   },
   "outputs": [
    {
     "name": "stdout",
     "output_type": "stream",
     "text": [
      "reg_alpha = 0.0001  SMPAE = 31.6803\n",
      "reg_alpha = 0.0100  SMPAE = 31.6803\n",
      "reg_alpha = 0.1000  SMPAE = 31.6803\n",
      "best parametrs:\n",
      "reg_alpha = 0.1000  "
     ]
    }
   ],
   "source": [
    "params_5_b = [[0.1], [24], [10], [5], [0], [0.9], [0.825], [4], [27],\n",
    "            [10**(i) for i in [-4, -2, -1]]]\n",
    "get_best_params(params_5_b, param_names, train, target, features)"
   ]
  },
  {
   "cell_type": "code",
   "execution_count": 61,
   "metadata": {
    "collapsed": false
   },
   "outputs": [
    {
     "name": "stdout",
     "output_type": "stream",
     "text": [
      "reg_alpha = 0.1000  SMPAE = 31.6803\n",
      "reg_alpha = 0.5000  SMPAE = 31.7610\n",
      "reg_alpha = 0.9000  SMPAE = 31.7610\n",
      "best parametrs:\n",
      "reg_alpha = 0.1000  "
     ]
    }
   ],
   "source": [
    "params_5_c = [[0.1], [24], [10], [5], [0], [0.9], [0.825], [4], [27],\n",
    "            np.linspace(0.1, 0.9, 3)]\n",
    "get_best_params(params_5_c, param_names, train, target, features)"
   ]
  },
  {
   "cell_type": "code",
   "execution_count": 62,
   "metadata": {
    "collapsed": false
   },
   "outputs": [
    {
     "name": "stdout",
     "output_type": "stream",
     "text": [
      "n_estimators = 100  SMPAE = 50.1469\n",
      "n_estimators = 200  SMPAE = 32.9527\n",
      "n_estimators = 300  SMPAE = 31.1267\n",
      "n_estimators = 400  SMPAE = 31.6020\n",
      "n_estimators = 500  SMPAE = 33.2067\n",
      "best parametrs:\n",
      "n_estimators = 300  "
     ]
    }
   ],
   "source": [
    "params_6 = [[0.01], [100, 200, 300, 400, 500], [10], [5], [0], [0.9], [0.825], [4], [27], [0.1]]\n",
    "get_best_params(params_6, param_names, train, target, features)"
   ]
  },
  {
   "cell_type": "code",
   "execution_count": 63,
   "metadata": {
    "collapsed": false
   },
   "outputs": [
    {
     "name": "stdout",
     "output_type": "stream",
     "text": [
      "n_estimators = 250  SMPAE = 31.4627\n",
      "n_estimators = 270  SMPAE = 31.2528\n",
      "n_estimators = 290  SMPAE = 31.1453\n",
      "n_estimators = 310  SMPAE = 31.1384\n",
      "n_estimators = 330  SMPAE = 31.1511\n",
      "n_estimators = 350  SMPAE = 31.2092\n",
      "best parametrs:\n",
      "n_estimators = 310  "
     ]
    }
   ],
   "source": [
    "params_6_b = [[0.01], range(250, 360, 20), [10], [5], [0], [0.9], [0.825], [4], [27], [0.1]]\n",
    "get_best_params(params_6_b, param_names, train, target, features)"
   ]
  },
  {
   "cell_type": "code",
   "execution_count": 40,
   "metadata": {
    "collapsed": false
   },
   "outputs": [],
   "source": [
    "final_params = [0.01, 330, 10, 5, 0, 0.9, 0.825, 4, 27, 0.1]\n",
    "\n",
    "test = pd.read_csv(\"test.tsv\")\n",
    "param_dict = {}\n",
    "for i, name in enumerate(param_names):\n",
    "    param_dict[name] = final_params[i]\n",
    "\n",
    "regressor = XGBRegressor(**param_dict)"
   ]
  },
  {
   "cell_type": "code",
   "execution_count": 41,
   "metadata": {
    "collapsed": false
   },
   "outputs": [],
   "source": [
    "test.drop([\"f{}\".format(i) for i in range(31, 61)], axis=1, inplace=True)\n",
    "\n",
    "n_buckets = 100\n",
    "id_hash = test['item_id'].values % n_buckets\n",
    "for i in range(n_buckets):\n",
    "    test['id_hash_{}'.format(i)] = [1 if id_hash[j] == i else 0 for j in range(len(id_hash))]"
   ]
  },
  {
   "cell_type": "code",
   "execution_count": 42,
   "metadata": {
    "collapsed": false
   },
   "outputs": [
    {
     "data": {
      "text/plain": [
       "XGBRegressor(base_score=0.5, colsample_bylevel=1, colsample_bytree=0.9,\n",
       "       gamma=0, learning_rate=0.01, max_delta_step=0, max_depth=12,\n",
       "       min_child_weight=4, missing=None, n_estimators=330, nthread=4,\n",
       "       objective='reg:linear', reg_alpha=3.2, reg_lambda=1,\n",
       "       scale_pos_weight=1, seed=27, silent=True, subsample=0.9)"
      ]
     },
     "execution_count": 42,
     "metadata": {},
     "output_type": "execute_result"
    }
   ],
   "source": [
    "regressor.fit(train[features].values, train[target].values)"
   ]
  },
  {
   "cell_type": "code",
   "execution_count": 43,
   "metadata": {
    "collapsed": false
   },
   "outputs": [],
   "source": [
    "final_answer = regressor.predict(test[features].values)"
   ]
  },
  {
   "cell_type": "code",
   "execution_count": 44,
   "metadata": {
    "collapsed": true
   },
   "outputs": [],
   "source": [
    "sample_submission = pd.read_csv(\"sample_submission.tsv\")\n",
    "sample_submission['y'] = final_answer\n",
    "sample_submission.to_csv(\"submission1.tsv\", sep=',', index=False)"
   ]
  },
  {
   "cell_type": "code",
   "execution_count": null,
   "metadata": {
    "collapsed": true
   },
   "outputs": [],
   "source": []
  }
 ],
 "metadata": {
  "kernelspec": {
   "display_name": "Python 3",
   "language": "python",
   "name": "python3"
  },
  "language_info": {
   "codemirror_mode": {
    "name": "ipython",
    "version": 3
   },
   "file_extension": ".py",
   "mimetype": "text/x-python",
   "name": "python",
   "nbconvert_exporter": "python",
   "pygments_lexer": "ipython3",
   "version": "3.5.2"
  }
 },
 "nbformat": 4,
 "nbformat_minor": 2
}
