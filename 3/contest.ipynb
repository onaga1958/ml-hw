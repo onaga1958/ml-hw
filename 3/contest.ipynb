{
 "cells": [
  {
   "cell_type": "code",
   "execution_count": 68,
   "metadata": {
    "collapsed": false
   },
   "outputs": [],
   "source": [
    "import numpy as np\n",
    "import xgboost as xgb\n",
    "import pandas as pd\n",
    "from xgboost.sklearn import XGBRegressor\n",
    "from sklearn import model_selection, metrics\n",
    "import matplotlib.pyplot as pl\n",
    "import itertools\n",
    "\n",
    "%matplotlib inline"
   ]
  },
  {
   "cell_type": "markdown",
   "metadata": {},
   "source": [
    "Считываем данные"
   ]
  },
  {
   "cell_type": "code",
   "execution_count": 69,
   "metadata": {
    "collapsed": true
   },
   "outputs": [],
   "source": [
    "train = pd.read_csv(\"train.tsv\")"
   ]
  },
  {
   "cell_type": "markdown",
   "metadata": {},
   "source": [
    "Убеждаемся, что фичи с 1 по 30 полная копия фич с 31 по 60"
   ]
  },
  {
   "cell_type": "code",
   "execution_count": 70,
   "metadata": {
    "collapsed": false
   },
   "outputs": [],
   "source": [
    "for i in range(1, 31):\n",
    "    for j_1, j_2 in zip(train['f{}'.format(i)], train['f{}'.format(i + 30)]):\n",
    "        if j_1 != j_2:\n",
    "            print(\"different!\")"
   ]
  },
  {
   "cell_type": "markdown",
   "metadata": {},
   "source": [
    "Удаляем повторы"
   ]
  },
  {
   "cell_type": "code",
   "execution_count": 71,
   "metadata": {
    "collapsed": true
   },
   "outputs": [],
   "source": [
    "train.drop([\"f{}\".format(i) for i in range(31, 61)], axis=1, inplace=True)"
   ]
  },
  {
   "cell_type": "markdown",
   "metadata": {},
   "source": [
    "Похешируем ID и добавим новые булевские признаки для каждого значения хеша"
   ]
  },
  {
   "cell_type": "code",
   "execution_count": 72,
   "metadata": {
    "collapsed": false
   },
   "outputs": [],
   "source": [
    "n_buckets = 100 #int(train['item_id'].nunique() / 10)\n",
    "id_hash = train['item_id'].values % n_buckets\n",
    "for i in range(n_buckets):\n",
    "    train['id_hash_{}'.format(i)] = [1 if id_hash[j] == i else 0 for j in range(len(id_hash))]"
   ]
  },
  {
   "cell_type": "code",
   "execution_count": 73,
   "metadata": {
    "collapsed": false
   },
   "outputs": [],
   "source": [
    "def SMAPE(regressor, X, y):\n",
    "    prediction = regressor.predict(X)\n",
    "    result = 0\n",
    "    for ans, right_ans in zip(prediction, np.array(y)):\n",
    "        result += abs(ans - right_ans) / (abs(right_ans) + abs(ans))\n",
    "    return result * 200 / len(y)\n",
    "    \n",
    "def test_regressor(regressor, data, target, features):\n",
    "    tscv = model_selection.TimeSeriesSplit(n_splits=5)\n",
    "    score = []\n",
    "    for train_index, test_index in tscv.split(data):\n",
    "        X_train, X_test = data[features].values[train_index], data[features].values[test_index]\n",
    "        y_train, y_test = data[target].values[train_index], data[target].values[test_index]\n",
    "        regressor.fit(X_train, y_train, eval_metric='mae')\n",
    "        score.append(SMAPE(regressor, X_test, y_test))\n",
    "\n",
    "    return np.array(score).mean()\n",
    "\n",
    "def print_params(params_arr, names_arr, params):\n",
    "    for i, p, name in zip(range(len(params)), params, names_arr):\n",
    "        if len(params_arr[i]) > 1:\n",
    "            if isinstance(p, int):\n",
    "                print(\"{} = {}\".format(name, p), end=\"  \") \n",
    "            else:\n",
    "                print(\"{} = {:.4f}\".format(name, p), end=\"  \")  \n",
    "\n",
    "def get_best_params(params_arr, names_arr, train, target, features):\n",
    "    maximum = 200\n",
    "    best_params = []\n",
    "    for params in itertools.product(*params_arr):\n",
    "        param_dict = {}\n",
    "        for i, name in enumerate(names_arr):\n",
    "            param_dict[name] = params[i]\n",
    "        print_params(params_arr, names_arr, params)\n",
    "        result = test_regressor(XGBRegressor(**param_dict), train, target, features)\n",
    "        print(\"SMPAE = {:.4f}\".format(result))\n",
    "        if (result < maximum):\n",
    "            maximum = result\n",
    "            best_params = params\n",
    "    print(\"best parametrs:\")\n",
    "    print_params(params_arr, names_arr, best_params)"
   ]
  },
  {
   "cell_type": "code",
   "execution_count": 74,
   "metadata": {
    "collapsed": true
   },
   "outputs": [],
   "source": [
    "target = ['y']\n",
    "features = [x for x in train.columns if x not in ['y', 'item_id', 'Num', 'year', 'week', 'shift']]\n",
    "param_names = ['learning_rate',\n",
    "               'n_estimators',\n",
    "               'max_depth',\n",
    "               'min_child_weight',\n",
    "               'gamma',\n",
    "               'subsample',\n",
    "               'colsample_bytree',\n",
    "               'nthread',\n",
    "               'seed',\n",
    "               'reg_alpha'\n",
    "              ]"
   ]
  },
  {
   "cell_type": "markdown",
   "metadata": {},
   "source": [
    "Тьюним параметры для XGBRegressor"
   ]
  },
  {
   "cell_type": "code",
   "execution_count": 75,
   "metadata": {
    "collapsed": false
   },
   "outputs": [
    {
     "name": "stdout",
     "output_type": "stream",
     "text": [
      "n_estimators = 20  SMPAE = 35.0989\n",
      "n_estimators = 30  SMPAE = 33.5186\n",
      "n_estimators = 40  SMPAE = 34.7030\n",
      "n_estimators = 50  SMPAE = 37.3771\n",
      "n_estimators = 60  SMPAE = 39.3887\n",
      "n_estimators = 70  SMPAE = 39.8739\n",
      "n_estimators = 80  SMPAE = 40.0137\n",
      "n_estimators = 90  SMPAE = 39.9551\n",
      "n_estimators = 100  SMPAE = 39.8284\n",
      "n_estimators = 110  SMPAE = 39.7100\n",
      "n_estimators = 120  SMPAE = 39.5515\n",
      "n_estimators = 130  SMPAE = 39.5849\n",
      "best parametrs:\n",
      "n_estimators = 30  "
     ]
    }
   ],
   "source": [
    "params_1 = [[0.1], range(20, 131, 10), [8], [1], [0], [0.9], [0.9], [4], [27], [0]]\n",
    "get_best_params(params_1, param_names, train, target, features)"
   ]
  },
  {
   "cell_type": "code",
   "execution_count": 77,
   "metadata": {
    "collapsed": false
   },
   "outputs": [
    {
     "name": "stdout",
     "output_type": "stream",
     "text": [
      "n_estimators = 22  SMPAE = 34.3834\n",
      "n_estimators = 24  SMPAE = 34.0773\n",
      "n_estimators = 26  SMPAE = 33.8042\n",
      "n_estimators = 28  SMPAE = 33.6313\n",
      "n_estimators = 30  SMPAE = 33.5186\n",
      "n_estimators = 32  SMPAE = 33.6373\n",
      "n_estimators = 34  SMPAE = 33.7620\n",
      "n_estimators = 36  SMPAE = 33.9932\n",
      "n_estimators = 38  SMPAE = 34.3528\n",
      "best parametrs:\n",
      "n_estimators = 30  "
     ]
    }
   ],
   "source": [
    "params_1_b = [[0.1], range(22, 39, 2), [8], [1], [0], [0.9], [0.9], [4], [27], [0]]\n",
    "get_best_params(params_1_b, param_names, train, target, features)"
   ]
  },
  {
   "cell_type": "code",
   "execution_count": 79,
   "metadata": {
    "collapsed": false
   },
   "outputs": [
    {
     "name": "stdout",
     "output_type": "stream",
     "text": [
      "max_depth = 5  min_child_weight = 1  SMPAE = 39.8802\n",
      "max_depth = 5  min_child_weight = 2  SMPAE = 40.1103\n",
      "max_depth = 5  min_child_weight = 3  SMPAE = 40.0799\n",
      "max_depth = 5  min_child_weight = 4  SMPAE = 40.2420\n",
      "max_depth = 5  min_child_weight = 5  SMPAE = 40.0912\n",
      "max_depth = 6  min_child_weight = 1  SMPAE = 37.3249\n",
      "max_depth = 6  min_child_weight = 2  SMPAE = 37.0260\n",
      "max_depth = 6  min_child_weight = 3  SMPAE = 37.3472\n",
      "max_depth = 6  min_child_weight = 4  SMPAE = 37.0988\n",
      "max_depth = 6  min_child_weight = 5  SMPAE = 37.1733\n",
      "max_depth = 7  min_child_weight = 1  SMPAE = 35.0644\n",
      "max_depth = 7  min_child_weight = 2  SMPAE = 35.1661\n",
      "max_depth = 7  min_child_weight = 3  SMPAE = 35.0477\n",
      "max_depth = 7  min_child_weight = 4  SMPAE = 34.9126\n",
      "max_depth = 7  min_child_weight = 5  SMPAE = 34.8727\n",
      "max_depth = 8  min_child_weight = 1  SMPAE = 33.5186\n",
      "max_depth = 8  min_child_weight = 2  SMPAE = 33.5132\n",
      "max_depth = 8  min_child_weight = 3  SMPAE = 33.6401\n",
      "max_depth = 8  min_child_weight = 4  SMPAE = 33.3128\n",
      "max_depth = 8  min_child_weight = 5  SMPAE = 33.2743\n",
      "max_depth = 9  min_child_weight = 1  SMPAE = 32.4965\n",
      "max_depth = 9  min_child_weight = 2  SMPAE = 32.4892\n",
      "max_depth = 9  min_child_weight = 3  SMPAE = 32.3403\n",
      "max_depth = 9  min_child_weight = 4  SMPAE = 32.3901\n",
      "max_depth = 9  min_child_weight = 5  SMPAE = 32.2536\n",
      "max_depth = 10  min_child_weight = 1  SMPAE = 31.6773\n",
      "max_depth = 10  min_child_weight = 2  SMPAE = 31.6856\n",
      "max_depth = 10  min_child_weight = 3  SMPAE = 31.5232\n",
      "max_depth = 10  min_child_weight = 4  SMPAE = 31.4859\n",
      "max_depth = 10  min_child_weight = 5  SMPAE = 31.4961\n",
      "best parametrs:\n",
      "max_depth = 10  min_child_weight = 4  "
     ]
    }
   ],
   "source": [
    "params_2 = [[0.1], [30], range(5, 11), range(1, 6), [0], [0.9], [0.9], [4], [27], [0]]\n",
    "get_best_params(params_2, param_names, train, target, features)"
   ]
  },
  {
   "cell_type": "code",
   "execution_count": 80,
   "metadata": {
    "collapsed": false
   },
   "outputs": [
    {
     "name": "stdout",
     "output_type": "stream",
     "text": [
      "gamma = 0.0000  SMPAE = 31.4859\n",
      "gamma = 0.1250  SMPAE = 31.4859\n",
      "gamma = 0.2500  SMPAE = 31.4859\n",
      "gamma = 0.3750  SMPAE = 31.4859\n",
      "gamma = 0.5000  SMPAE = 31.4859\n",
      "best parametrs:\n",
      "gamma = 0.0000  "
     ]
    }
   ],
   "source": [
    "params_3 = [[0.1], [30], [10], [4], np.linspace(0, 0.5, 5), [0.9], [0.9], [4], [27], [0]]\n",
    "get_best_params(params_3, param_names, train, target, features)"
   ]
  },
  {
   "cell_type": "code",
   "execution_count": 82,
   "metadata": {
    "collapsed": false
   },
   "outputs": [
    {
     "name": "stdout",
     "output_type": "stream",
     "text": [
      "subsample = 0.7500  colsample_bytree = 0.7500  SMPAE = 31.7255\n",
      "subsample = 0.7500  colsample_bytree = 0.8167  SMPAE = 31.6240\n",
      "subsample = 0.7500  colsample_bytree = 0.8833  SMPAE = 31.8093\n",
      "subsample = 0.7500  colsample_bytree = 0.9500  SMPAE = 31.8161\n",
      "subsample = 0.8167  colsample_bytree = 0.7500  SMPAE = 31.5569\n",
      "subsample = 0.8167  colsample_bytree = 0.8167  SMPAE = 31.5071\n",
      "subsample = 0.8167  colsample_bytree = 0.8833  SMPAE = 31.5612\n",
      "subsample = 0.8167  colsample_bytree = 0.9500  SMPAE = 31.4612\n",
      "subsample = 0.8833  colsample_bytree = 0.7500  SMPAE = 31.3801\n",
      "subsample = 0.8833  colsample_bytree = 0.8167  SMPAE = 31.2875\n",
      "subsample = 0.8833  colsample_bytree = 0.8833  SMPAE = 31.4840\n",
      "subsample = 0.8833  colsample_bytree = 0.9500  SMPAE = 31.6642\n",
      "subsample = 0.9500  colsample_bytree = 0.7500  SMPAE = 31.5401\n",
      "subsample = 0.9500  colsample_bytree = 0.8167  SMPAE = 31.3151\n",
      "subsample = 0.9500  colsample_bytree = 0.8833  SMPAE = 31.4755\n",
      "subsample = 0.9500  colsample_bytree = 0.9500  SMPAE = 31.6230\n",
      "best parametrs:\n",
      "subsample = 0.8833  colsample_bytree = 0.8167  "
     ]
    }
   ],
   "source": [
    "params_4 = [[0.1], [30], [10], [4], [0], np.linspace(0.75, 0.95, 4),\n",
    "            np.linspace(0.75, 0.95, 4), [4], [27], [0]]\n",
    "get_best_params(params_4, param_names, train, target, features)"
   ]
  },
  {
   "cell_type": "code",
   "execution_count": 83,
   "metadata": {
    "collapsed": false
   },
   "outputs": [
    {
     "name": "stdout",
     "output_type": "stream",
     "text": [
      "reg_alpha = 1000  SMPAE = 31.5757\n",
      "reg_alpha = 100  SMPAE = 31.3410\n",
      "reg_alpha = 10  SMPAE = 31.2685\n",
      "reg_alpha = 1  SMPAE = 31.2730\n",
      "reg_alpha = 0.1000  SMPAE = 31.2730\n",
      "reg_alpha = 0.0100  SMPAE = 31.2730\n",
      "reg_alpha = 0.0010  SMPAE = 31.2730\n",
      "best parametrs:\n",
      "reg_alpha = 10  "
     ]
    }
   ],
   "source": [
    "params_5 = [[0.1], [30], [10], [4], [0], [0.8833], [0.8167], [4], [27],\n",
    "            [10**(i) for i in [3, 2, 1, 0, -1, -2, -3]]]\n",
    "get_best_params(params_5, param_names, train, target, features)"
   ]
  },
  {
   "cell_type": "code",
   "execution_count": 84,
   "metadata": {
    "collapsed": false
   },
   "outputs": [
    {
     "name": "stdout",
     "output_type": "stream",
     "text": [
      "reg_alpha = 2  SMPAE = 31.2730\n",
      "reg_alpha = 4  SMPAE = 31.2730\n",
      "reg_alpha = 6  SMPAE = 31.2685\n",
      "reg_alpha = 8  SMPAE = 31.2685\n",
      "reg_alpha = 10  SMPAE = 31.2685\n",
      "reg_alpha = 12  SMPAE = 31.2685\n",
      "reg_alpha = 14  SMPAE = 31.2542\n",
      "reg_alpha = 16  SMPAE = 31.2376\n",
      "reg_alpha = 18  SMPAE = 31.2377\n",
      "best parametrs:\n",
      "reg_alpha = 16  "
     ]
    }
   ],
   "source": [
    "params_5_b = [[0.1], [30], [10], [4], [0], [0.8833], [0.8167], [4], [27],\n",
    "              range(2, 20, 2)]\n",
    "get_best_params(params_5_b, param_names, train, target, features)"
   ]
  },
  {
   "cell_type": "code",
   "execution_count": 86,
   "metadata": {
    "collapsed": false
   },
   "outputs": [
    {
     "name": "stdout",
     "output_type": "stream",
     "text": [
      "n_estimators = 500  SMPAE = 50.3103\n",
      "n_estimators = 1000  SMPAE = 33.0605\n",
      "n_estimators = 1500  SMPAE = 31.1308\n",
      "n_estimators = 2000  SMPAE = 31.7216\n",
      "best parametrs:\n",
      "n_estimators = 1500  "
     ]
    }
   ],
   "source": [
    "params_6 = [[0.002], [500, 1000, 1500, 2000], [10], [4], [0], [0.8833], [0.8167], [4], [27], [16]]\n",
    "get_best_params(params_6, param_names, train, target, features)"
   ]
  },
  {
   "cell_type": "code",
   "execution_count": 63,
   "metadata": {
    "collapsed": false
   },
   "outputs": [
    {
     "name": "stdout",
     "output_type": "stream",
     "text": [
      "n_estimators = 250  SMPAE = 31.4627\n",
      "n_estimators = 270  SMPAE = 31.2528\n",
      "n_estimators = 290  SMPAE = 31.1453\n",
      "n_estimators = 310  SMPAE = 31.1384\n",
      "n_estimators = 330  SMPAE = 31.1511\n",
      "n_estimators = 350  SMPAE = 31.2092\n",
      "best parametrs:\n",
      "n_estimators = 310  "
     ]
    }
   ],
   "source": [
    "params_6_b = [[0.01], range(250, 360, 20), [10], [4], [0], [0.8833], [0.8167], [4], [27], []]\n",
    "get_best_params(params_6_b, param_names, train, target, features)"
   ]
  },
  {
   "cell_type": "code",
   "execution_count": 49,
   "metadata": {
    "collapsed": false
   },
   "outputs": [],
   "source": [
    "final_params = [0.01, 310, 10, 4, 0, 0.8833, 0.8167, 4, 27, ]\n",
    "\n",
    "test = pd.read_csv(\"test.tsv\")\n",
    "param_dict = {}\n",
    "for i, name in enumerate(param_names):\n",
    "    param_dict[name] = final_params[i]\n",
    "\n",
    "regressor = XGBRegressor(**param_dict)"
   ]
  },
  {
   "cell_type": "markdown",
   "metadata": {},
   "source": [
    "Работаем с признаками так же как и для train"
   ]
  },
  {
   "cell_type": "code",
   "execution_count": 50,
   "metadata": {
    "collapsed": false
   },
   "outputs": [],
   "source": [
    "test.drop([\"f{}\".format(i) for i in range(31, 61)], axis=1, inplace=True)\n",
    "\n",
    "n_buckets = 100\n",
    "id_hash = test['item_id'].values % n_buckets\n",
    "for i in range(n_buckets):\n",
    "    test['id_hash_{}'.format(i)] = [1 if id_hash[j] == i else 0 for j in range(len(id_hash))]"
   ]
  },
  {
   "cell_type": "code",
   "execution_count": 51,
   "metadata": {
    "collapsed": false
   },
   "outputs": [
    {
     "data": {
      "text/plain": [
       "XGBRegressor(base_score=0.5, colsample_bylevel=1, colsample_bytree=0.825,\n",
       "       gamma=0, learning_rate=0.01, max_delta_step=0, max_depth=10,\n",
       "       min_child_weight=5, missing=None, n_estimators=310, nthread=4,\n",
       "       objective='reg:linear', reg_alpha=0.1, reg_lambda=1,\n",
       "       scale_pos_weight=1, seed=27, silent=True, subsample=0.9)"
      ]
     },
     "execution_count": 51,
     "metadata": {},
     "output_type": "execute_result"
    }
   ],
   "source": [
    "regressor.fit(train[features].values, train[target].values, eval_metric='mae')"
   ]
  },
  {
   "cell_type": "markdown",
   "metadata": {},
   "source": [
    "Оцениваем данные, которые можно оценить непосредственно с помощью последующих данных. Сделать это можно балогодаря тому, что $f30$ это с некоторым коэффициентом $y$ для недели с номером $номер\\_текущей\\_недели - shift$."
   ]
  },
  {
   "cell_type": "code",
   "execution_count": 14,
   "metadata": {
    "collapsed": true
   },
   "outputs": [],
   "source": [
    "ID_dict = {}\n",
    "for i in test[\"item_id\"].values:\n",
    "    ID_dict[i] = True\n",
    "\n",
    "IDs = list(ID_dict.keys())\n",
    "ID_indexes = {}\n",
    "for i, ID in enumerate(IDs):\n",
    "    ID_indexes[ID] = i"
   ]
  },
  {
   "cell_type": "code",
   "execution_count": 27,
   "metadata": {
    "collapsed": false
   },
   "outputs": [],
   "source": [
    "week_data_for_ID = np.ones([3, len(IDs)]) * -1\n",
    "final_answer = np.zeros(len(test['week']))\n",
    "unknown_index = []\n"
   ]
  },
  {
   "cell_type": "markdown",
   "metadata": {},
   "source": [
    "Это как раз коэффициент между $y$ и $f30$. Я вычислил его просто по одному значению, но он примерно одинаковый для всех данных."
   ]
  },
  {
   "cell_type": "code",
   "execution_count": 58,
   "metadata": {
    "collapsed": false
   },
   "outputs": [
    {
     "data": {
      "text/html": [
       "<div>\n",
       "<table border=\"1\" class=\"dataframe\">\n",
       "  <thead>\n",
       "    <tr style=\"text-align: right;\">\n",
       "      <th></th>\n",
       "      <th>year</th>\n",
       "      <th>week</th>\n",
       "      <th>shift</th>\n",
       "    </tr>\n",
       "  </thead>\n",
       "  <tbody>\n",
       "    <tr>\n",
       "      <th>102</th>\n",
       "      <td>2012</td>\n",
       "      <td>52</td>\n",
       "      <td>1</td>\n",
       "    </tr>\n",
       "    <tr>\n",
       "      <th>332</th>\n",
       "      <td>2013</td>\n",
       "      <td>1</td>\n",
       "      <td>2</td>\n",
       "    </tr>\n",
       "    <tr>\n",
       "      <th>564</th>\n",
       "      <td>2013</td>\n",
       "      <td>2</td>\n",
       "      <td>3</td>\n",
       "    </tr>\n",
       "    <tr>\n",
       "      <th>793</th>\n",
       "      <td>2013</td>\n",
       "      <td>1</td>\n",
       "      <td>1</td>\n",
       "    </tr>\n",
       "    <tr>\n",
       "      <th>1025</th>\n",
       "      <td>2013</td>\n",
       "      <td>2</td>\n",
       "      <td>2</td>\n",
       "    </tr>\n",
       "  </tbody>\n",
       "</table>\n",
       "</div>"
      ],
      "text/plain": [
       "      year  week  shift\n",
       "102   2012    52      1\n",
       "332   2013     1      2\n",
       "564   2013     2      3\n",
       "793   2013     1      1\n",
       "1025  2013     2      2"
      ]
     },
     "execution_count": 58,
     "metadata": {},
     "output_type": "execute_result"
    }
   ],
   "source": [
    "train[train['item_id'] == IDs[1]][['year', 'week', 'shift']].head()"
   ]
  },
  {
   "cell_type": "code",
   "execution_count": 59,
   "metadata": {
    "collapsed": true
   },
   "outputs": [
    {
     "name": "stderr",
     "output_type": "stream",
     "text": [
      "/usr/lib/python3.5/site-packages/ipykernel/__main__.py:2: UserWarning: Boolean Series key will be reindexed to match DataFrame index.\n",
      "  from ipykernel import kernelapp as app\n",
      "/usr/lib/python3.5/site-packages/ipykernel/__main__.py:3: UserWarning: Boolean Series key will be reindexed to match DataFrame index.\n",
      "  app.launch_new_instance()\n",
      "/usr/lib/python3.5/site-packages/ipykernel/__main__.py:4: UserWarning: Boolean Series key will be reindexed to match DataFrame index.\n",
      "/usr/lib/python3.5/site-packages/ipykernel/__main__.py:6: UserWarning: Boolean Series key will be reindexed to match DataFrame index.\n",
      "/usr/lib/python3.5/site-packages/ipykernel/__main__.py:7: UserWarning: Boolean Series key will be reindexed to match DataFrame index.\n",
      "/usr/lib/python3.5/site-packages/ipykernel/__main__.py:8: UserWarning: Boolean Series key will be reindexed to match DataFrame index.\n"
     ]
    }
   ],
   "source": [
    "magic = (train[train['week'] == 52]\n",
    " [train['year'] == 2012]\n",
    " [train['item_id'] == IDs[1]]\n",
    " [train['shift'] == 1]['y'].values[0] /\n",
    " train[train['week'] == 1]\n",
    " [train['year'] == 2013]\n",
    " [train['item_id'] == IDs[1]]\n",
    " [train['shift'] == 1]['f30'].values[0])"
   ]
  },
  {
   "cell_type": "code",
   "execution_count": 60,
   "metadata": {
    "collapsed": false
   },
   "outputs": [
    {
     "data": {
      "text/plain": [
       "1.6099949562878277"
      ]
     },
     "execution_count": 60,
     "metadata": {},
     "output_type": "execute_result"
    }
   ],
   "source": [
    "magic"
   ]
  },
  {
   "cell_type": "code",
   "execution_count": 29,
   "metadata": {
    "collapsed": true
   },
   "outputs": [],
   "source": [
    "for i in range(len(test['week'])):\n",
    "    week_num = test['week'].values[i] - test['shift'].values[i]\n",
    "    if week_num > 2:\n",
    "        week_data_for_ID[week_num - 3][ID_indexes[test['item_id'].values[i]]] = magic * test['f30'].values[i]"
   ]
  },
  {
   "cell_type": "code",
   "execution_count": 31,
   "metadata": {
    "collapsed": false
   },
   "outputs": [],
   "source": [
    "for i in range(len(test['week'])):\n",
    "    value = week_data_for_ID[test['week'].values[i] - 3][ID_indexes[test['item_id'].values[i]]]\n",
    "    if value == - 1:\n",
    "        unknown_index.append(i)\n",
    "    else:\n",
    "        final_answer[i] = value"
   ]
  },
  {
   "cell_type": "code",
   "execution_count": 62,
   "metadata": {
    "collapsed": false
   },
   "outputs": [],
   "source": [
    "predict_for_unknown = regressor.predict(test[features].values[unknown_index])"
   ]
  },
  {
   "cell_type": "code",
   "execution_count": 64,
   "metadata": {
    "collapsed": true
   },
   "outputs": [],
   "source": [
    "for ind, ans in zip(unknown_index, predict_for_unknown):\n",
    "    final_answer[ind] = ans"
   ]
  },
  {
   "cell_type": "code",
   "execution_count": 66,
   "metadata": {
    "collapsed": true
   },
   "outputs": [],
   "source": [
    "sample_submission = pd.read_csv(\"sample_submission.tsv\")\n",
    "sample_submission['y'] = final_answer\n",
    "sample_submission.to_csv(\"submission1.tsv\", sep=',', index=False)"
   ]
  },
  {
   "cell_type": "code",
   "execution_count": null,
   "metadata": {
    "collapsed": true
   },
   "outputs": [],
   "source": []
  }
 ],
 "metadata": {
  "kernelspec": {
   "display_name": "Python 3",
   "language": "python",
   "name": "python3"
  },
  "language_info": {
   "codemirror_mode": {
    "name": "ipython",
    "version": 3
   },
   "file_extension": ".py",
   "mimetype": "text/x-python",
   "name": "python",
   "nbconvert_exporter": "python",
   "pygments_lexer": "ipython3",
   "version": "3.5.2"
  }
 },
 "nbformat": 4,
 "nbformat_minor": 2
}
