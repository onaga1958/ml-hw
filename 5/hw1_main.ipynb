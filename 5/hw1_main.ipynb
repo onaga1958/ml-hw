{
 "cells": [
  {
   "cell_type": "markdown",
   "metadata": {
    "deletable": true,
    "editable": true
   },
   "source": [
    "# Home work 1: Basic Artificial Neural Networks\n",
    "\n",
    "Credit https://github.com/yandexdataschool/YSDA_deeplearning17, https://github.com/DmitryUlyanov\n",
    "\n",
    "\n",
    "Зачем это всё нужно?! Зачем понимать как работают нейросети внутри когда уже есть куча библиотек?\n",
    "- Время от времени Ваши сети не учатся, веса становятся nan-ами, все расходится и разваливается -- это можно починить если понимать бекпроп\n",
    "- Если Вы не понимаете как работают оптимизаторы, то не сможете правильно выставить гиперапрааметры :) и тоже ничего выучить не выйдет\n",
    "- https://medium.com/@karpathy/yes-you-should-understand-backprop-e2f06eab496b"
   ]
  },
  {
   "cell_type": "markdown",
   "metadata": {
    "deletable": true,
    "editable": true
   },
   "source": [
    "The goal of this homework is simple, yet an actual implementation may take some time :). We are going to write an Artificial Neural Network (almost) from scratch. The software design of was heavily inspired by [Torch](http://torch.ch) which is the most convenient neural network environment when the work involves defining new layers. "
   ]
  },
  {
   "cell_type": "markdown",
   "metadata": {
    "deletable": true,
    "editable": true
   },
   "source": [
    "This homework requires sending **\"multiple** files, please do not forget to include all the files when sending to TA. The list of files:\n",
    "- This notebook\n",
    "- hw1_Modules.ipynb\n",
    "\n",
    "If you want to read more about backprop this links can be helpfull:\n",
    "- http://udacity.com/course/deep-learning--ud730 \n",
    "- http://cs231n.stanford.edu/2016/syllabus.html \n",
    "- http://www.deeplearningbook.org "
   ]
  },
  {
   "cell_type": "markdown",
   "metadata": {
    "deletable": true,
    "editable": true
   },
   "source": [
    "<h1 align=\"center\">Check Questions</h1> \n",
    "\n",
    "**Вопрос 1**: Чем нейросети отличаются от линейных моделей а чем похожи? \n",
    "\n",
    "В линейной модели мы для каждого класса во время обучения ищем один паттерн (грубо говоря, \"средний\" объект для кажого класса), с которым в дальнейшем сравниваем объекты при тестировании - ответом будет класс, паттерн которго будет ближе всего к данному объекту.\n",
    "\n",
    "В нейросетях мы тоже ищем паттерны, но для каждого класса паттернов мы можем делать не один, а сколько угодно. Более того, с помощью сверток мы можем выделять паттерны, которые не привязаны к конкретному месту на картинке (если при обучении линейной модели все коты были по центру картинки, то кота в углу она не найдет).\n",
    "\n",
    "**Вопрос 2**: В чем недостатки полносвзяных нейронных сетей какая мотивация к использованию свёрточных?\n",
    "\n",
    "В полносвязных нейросетях мы, конечно, можем выделять паттернов сколько хотим, но все же для каждого класса делать паттерны \"объект в левом нижнем углу\", \"объект на пиксель сдвинут из левого нижнего угла\" и т. д. мы не можем. Не можем из-за того, что в этом случае у нас будет очень очень много параметров и мы переобучимся. Поэтому лучше сделать свертку, которая поможет искать паттерн по всему изображению и при этом параметров сильно меньше.\n",
    "\n",
    "**Вопрос 3**: Какие слои используются в современных нейронных сетях? Опишите как работает каждый слой и свою интуицию зачем он нужен.\n",
    "\n",
    "    - DenceLayer -- линейное преобразование Wx + b, можно интерпретировать как вычисление скора для большого набора паттернов, очень похож на линейную алгебру и по этому работает как смена базиса (если это первый слой, то можно скзать, что мы меняем базис с яркости пикселей на \"вес\" паттерна в изображении).\n",
    "    - ConvolutionLayer - свертка изображения с линейным фильтром. Нужен, чтобы искать паттерны не в конкретных местах, а в любом месте изображения.\n",
    "    - MaxPoolLayer - разбивает матрицу на квадраты, скажем, размера 2х2 и заменяет их на к-н число, чаще всего максимум из четырех чисел в квадрате. Эта штука уменьшает изображение, усредняя его.\n",
    "    - DropOut - выкидываем из полносвязного слоя случайно некоторое количество нейронов (обычно выкидываем каждый с вероятностью 0.5). 1-ая интерпретация: сможем детектировать объект, даже если не видим какие-то его части. 2-ая интерпретация: делая дропаут мы выбираем какую-то нейросеть из ансамбля нейросетей, и в итоге в среднем рез-т будет лучше (так же как с ансамблем решающих деревьев).\n",
    "    - SoftMaxLayer(LossLayer) - считаем функцию потерь и градиент по ней. Очевидно, это обязательный элемент любой нейросети, так как обучаемся мы уменьшая функцию потерь, шагая по её антиградиенту.\n",
    "    \n",
    "    \n",
    "**Вопрос 4**: Может ли нейросеть решать задачу регрессии, какой компонент для этого нужно заменить в нейросети из лекции 1?\n",
    "\n",
    "Да может, для этого нужно заменить последний слой, который считает функцию потерь и изменить механизм выдачи ответа (не argmax, а что-то вроде среднего).\n",
    "\n",
    "\n",
    "**Вопрос 5**: Почему обычные методы оптимизации плохо работают с нейросетями? А какие работают хорошо? Почему они работают хорошо?\n",
    "\n",
    "Потому что функция, которая получается в итоге очень сложная с множеством разных неприятных особенностей вроде \"селда\", из которых обычным методам сложно или даже вообще не получается. Ну и к тому же они банально медленно работают. Хорошо работает метод градиентного спуска с несколькими оптимизациями: идти по экспоненциальному среднему градиента (моментум), нормировать шаг, на сумму предыдующих (AdaGrad), делать все это вместе еще и уменьшая роль этих оптимизаций на первых итерациях, когда среднее значение еще не дает хорошего улучшения (Adam). Они работают хорошо, потому что эти методы близки к методам второго порядка.\n",
    "\n",
    "**Вопрос 6**: Для чего нужен backprop, чем это лучше/хуже чем считать градиенты без него? Почему backprop эффективно считается на GPU?\n",
    "\n",
    "Нужен, чтобы быстро и эффективно считать производные от функции потерь. Функция очень сложная и дифференцировать её в явном виде по каждому параметру практически нереально. Эффективно он считается на GPU, потому что там постоянно приходиться перемножать матрицы, а эта операция очень хорошо параллелиться, причем на большое количество вычислительных элементов.\n",
    "\n",
    "**Вопрос 7**: Почему для нейросетей не используют кросс валидацию, что вместо неё? Можно-ли ее использовать?\n",
    "\n",
    "Кросс валидация для нейросетей работает сверх долго, так как нейросети очень долго учатся. Вместо неё просто test-and-split.\n",
    "\n",
    "**Вопрос 8**: Небольшой quiz который поможет разобраться со свертками https://www.youtube.com/watch?v=DDRa5ASNdq4 \n",
    "\n",
    "<img src=\"conv.png\" width=\"600\">\n",
    "\n",
    "<img src=\"conv answer.jpg\" width=\"600\">\n"
   ]
  },
  {
   "cell_type": "markdown",
   "metadata": {
    "deletable": true,
    "editable": true
   },
   "source": [
    "-------------\n",
    "\n",
    "Политика списывания. Вы можете обсудить решение с одногрупниками, так интереснее и веселее :) \n",
    "Не шарьте друг-другу код, в этом случаи вы ничему не научитесь -- \"мыши плакали кололись но продолжали жрать кактус\".\n",
    "\n",
    "Теперь формально. Разница между списыванием и помощью товарища иногда едва различима. Мы искренне надеемся, что при любых сложностях вы можете обратиться к семинаристам и с их подсказками **самостоятельно** справиться с заданием. При зафиксированных случаях списывания (одинаковый код, одинаковые ошибки), баллы за задание будут обнулены всем участникам инцидента."
   ]
  },
  {
   "cell_type": "code",
   "execution_count": 1,
   "metadata": {
    "collapsed": false,
    "deletable": true,
    "editable": true
   },
   "outputs": [],
   "source": [
    "%matplotlib inline\n",
    "from time import time, sleep\n",
    "import numpy as np\n",
    "import matplotlib.pyplot as plt\n",
    "from IPython import display"
   ]
  },
  {
   "cell_type": "markdown",
   "metadata": {
    "deletable": true,
    "editable": true
   },
   "source": [
    "# Важно \n",
    "\n",
    "    - Не забывайте делать GradCheck, чтобы проверить численно что производные правильные, обычно с первого раза не выходит никогда,   пример тут https://goo.gl/pzvzfe \n",
    "    - Ваш код не должен содержать циклов, все вычисления должны бить векторные, внутри numpy \n",
    "    "
   ]
  },
  {
   "cell_type": "markdown",
   "metadata": {
    "deletable": true,
    "editable": true
   },
   "source": [
    "# Framework"
   ]
  },
  {
   "cell_type": "markdown",
   "metadata": {
    "deletable": true,
    "editable": true
   },
   "source": [
    "Implement everything in `Modules.ipynb`. Read all the comments thoughtfully to ease the pain. Please try not to change the prototypes.\n",
    "\n",
    "Do not forget, that each module should return AND store `output` and `gradInput`.\n",
    "\n",
    "The typical assumption is that `module.backward` is always executed after `module.forward`,\n",
    "so `output` is stored, this would be useful for `SoftMax`. "
   ]
  },
  {
   "cell_type": "code",
   "execution_count": 2,
   "metadata": {
    "collapsed": true,
    "deletable": true,
    "editable": true
   },
   "outputs": [],
   "source": [
    "\"\"\"\n",
    "    --------------------------------------\n",
    "    -- Tech note\n",
    "    --------------------------------------\n",
    "    Inspired by torch I would use\n",
    "    \n",
    "    np.multiply, np.add, np.divide, np.subtract instead of *,+,/,-\n",
    "    for better memory handling\n",
    "        \n",
    "    Suppose you allocated a variable    \n",
    "        \n",
    "        a = np.zeros(...)\n",
    "    \n",
    "    So, instead of\n",
    "    \n",
    "        a = b + c  # will be reallocated, GC needed to free\n",
    "    \n",
    "    I would go for: \n",
    "    \n",
    "        np.add(b,c,out = a) # puts result in `a`\n",
    "    \n",
    "    But it is completely up to you.\n",
    "\"\"\"\n",
    "%run hw1_Modules.ipynb"
   ]
  },
  {
   "cell_type": "markdown",
   "metadata": {
    "deletable": true,
    "editable": true
   },
   "source": [
    "Optimizer is implemented for you. "
   ]
  },
  {
   "cell_type": "code",
   "execution_count": 22,
   "metadata": {
    "collapsed": false,
    "deletable": true,
    "editable": true
   },
   "outputs": [],
   "source": [
    "def sgd_momentum(x, dx, config, state):\n",
    "    \"\"\"\n",
    "        This is a very ugly implementation of sgd with momentum \n",
    "        just to show an example how to store old grad in state.\n",
    "        \n",
    "        config:\n",
    "            - momentum\n",
    "            - learning_rate\n",
    "        state:\n",
    "            - old_grad\n",
    "    \"\"\"\n",
    "    \n",
    "    # x and dx have complex structure, old dx will be stored in a simpler one\n",
    "    state.setdefault('old_grad', {})\n",
    "    \n",
    "    i = 0 \n",
    "    for cur_layer_x, cur_layer_dx in zip(x, dx): \n",
    "        for cur_x, cur_dx in zip(cur_layer_x, cur_layer_dx):\n",
    "            cur_old_grad = state['old_grad'].setdefault(i, np.zeros_like(cur_dx))\n",
    "            np.add(config['momentum'] * cur_old_grad, config['learning_rate'] * cur_dx, out = cur_old_grad)\n",
    "            state['old_grad'][i] = cur_old_grad\n",
    "            cur_x -= cur_old_grad\n",
    "            i += 1"
   ]
  },
  {
   "cell_type": "markdown",
   "metadata": {
    "deletable": true,
    "editable": true
   },
   "source": [
    "# Toy example"
   ]
  },
  {
   "cell_type": "markdown",
   "metadata": {
    "deletable": true,
    "editable": true
   },
   "source": [
    "Use this example to debug your code, start with logistic regression and then test other layers. You do not need to change anything here. This code is provided for you to test the layers. Also it is easy to use this code in MNIST task."
   ]
  },
  {
   "cell_type": "code",
   "execution_count": 74,
   "metadata": {
    "collapsed": false,
    "deletable": true,
    "editable": true,
    "scrolled": false
   },
   "outputs": [
    {
     "data": {
      "text/plain": [
       "<matplotlib.collections.PathCollection at 0x7fd1b3d1f278>"
      ]
     },
     "execution_count": 74,
     "metadata": {},
     "output_type": "execute_result"
    },
    {
     "data": {
      "image/png": "[encoded data removed]",
      "text/plain": [
       "<matplotlib.figure.Figure at 0x7fd1b19d03c8>"
      ]
     },
     "metadata": {},
     "output_type": "display_data"
    }
   ],
   "source": [
    "# Generate some data\n",
    "N = 500\n",
    "\n",
    "X1 = np.random.randn(N, 2) + np.array([2, 2])\n",
    "X2 = np.random.randn(N, 2) + np.array([-2, -2])\n",
    "\n",
    "Y = np.concatenate([np.ones(N, dtype=int), np.zeros(N, dtype=int)])[:, None]\n",
    "Y = np.hstack([Y, 1 - Y])\n",
    "\n",
    "X = np.vstack([X1, X2])\n",
    "plt.scatter(X[:, 0],X[:, 1], c=Y[:, 0], edgecolors='none')"
   ]
  },
  {
   "cell_type": "markdown",
   "metadata": {
    "deletable": true,
    "editable": true
   },
   "source": [
    "Define a **logistic regression** for debugging. "
   ]
  },
  {
   "cell_type": "code",
   "execution_count": 75,
   "metadata": {
    "collapsed": false,
    "deletable": true,
    "editable": true
   },
   "outputs": [
    {
     "name": "stdout",
     "output_type": "stream",
     "text": [
      "Linear 2 -> 4\n",
      "ReLU\n",
      "Linear 4 -> 2\n",
      "SoftMax\n",
      "\n"
     ]
    }
   ],
   "source": [
    "# net = Sequential()\n",
    "# net.add(Linear(2, 2))\n",
    "# net.add(SoftMax())\n",
    "\n",
    "criterion = ClassNLLCriterion()\n",
    "\n",
    "# Test something like that then \n",
    "\n",
    "net = Sequential()\n",
    "net.add(Linear(2, 4))\n",
    "net.add(ReLU())\n",
    "net.add(Linear(4, 2))\n",
    "net.add(SoftMax())\n",
    "\n",
    "print(net)"
   ]
  },
  {
   "cell_type": "markdown",
   "metadata": {
    "deletable": true,
    "editable": true
   },
   "source": [
    "Start with batch_size = 1000 to make sure every step lowers the loss, then try stochastic version."
   ]
  },
  {
   "cell_type": "code",
   "execution_count": 77,
   "metadata": {
    "collapsed": true,
    "deletable": true,
    "editable": true
   },
   "outputs": [],
   "source": [
    "# Iptimizer params\n",
    "optimizer_config = {'learning_rate' : 0.001, 'momentum': 0.9}\n",
    "optimizer_state = {}\n",
    "\n",
    "# Looping params\n",
    "n_epoch = 5\n",
    "batch_size = 1"
   ]
  },
  {
   "cell_type": "code",
   "execution_count": 3,
   "metadata": {
    "collapsed": true,
    "deletable": true,
    "editable": true
   },
   "outputs": [],
   "source": [
    "# batch generator\n",
    "def get_batches(dataset, batch_size):\n",
    "    X, Y = dataset\n",
    "    n_samples = X.shape[0]\n",
    "        \n",
    "    # Shuffle at the start of epoch\n",
    "    indices = np.arange(n_samples)\n",
    "    np.random.shuffle(indices)\n",
    "    \n",
    "    for start in range(0, n_samples, batch_size):\n",
    "        end = min(start + batch_size, n_samples)\n",
    "        \n",
    "        batch_idx = indices[start:end]\n",
    "    \n",
    "        yield X[batch_idx], Y[batch_idx]"
   ]
  },
  {
   "cell_type": "markdown",
   "metadata": {
    "deletable": true,
    "editable": true
   },
   "source": [
    "### Train"
   ]
  },
  {
   "cell_type": "markdown",
   "metadata": {
    "deletable": true,
    "editable": true
   },
   "source": [
    "Basic training loop. Examine it."
   ]
  },
  {
   "cell_type": "code",
   "execution_count": 99,
   "metadata": {
    "collapsed": false,
    "deletable": true,
    "editable": true,
    "scrolled": false
   },
   "outputs": [
    {
     "data": {
      "image/png": "[encoded data removed]",
      "text/plain": [
       "<matplotlib.figure.Figure at 0x7fd1b195fa90>"
      ]
     },
     "metadata": {},
     "output_type": "display_data"
    },
    {
     "name": "stdout",
     "output_type": "stream",
     "text": [
      "Current loss: 0.000000\n"
     ]
    }
   ],
   "source": [
    "loss_history = []\n",
    "\n",
    "for i in range(n_epoch):\n",
    "    for x_batch, y_batch in get_batches((X, Y), batch_size):\n",
    "        net.zeroGradParameters()\n",
    "\n",
    "        # Forward\n",
    "        predictions = net.forward(x_batch)\n",
    "        loss = criterion.forward(predictions, y_batch[:, 0])\n",
    "    \n",
    "        # Backward\n",
    "        dp = criterion.backward(predictions, y_batch[:, 0])\n",
    "        net.backward(x_batch, dp)\n",
    "        \n",
    "        # Update weights\n",
    "        gradient_step(net.getParameters(), \n",
    "                     net.getGradParameters(), \n",
    "                     optimizer_config,\n",
    "                     optimizer_state)\n",
    "        \n",
    "        optimizer_state['turn number'] += 1\n",
    "        loss_history.append(loss)\n",
    "\n",
    "    # Visualize\n",
    "    display.clear_output(wait=True)\n",
    "    plt.figure(figsize=(8, 6))\n",
    "        \n",
    "    plt.title(\"Training loss\")\n",
    "    plt.xlabel(\"#iteration\")\n",
    "    plt.ylabel(\"loss\")\n",
    "    plt.plot(loss_history, 'b')\n",
    "    plt.show()\n",
    "    \n",
    "    print('Current loss: %f' % loss)    "
   ]
  },
  {
   "cell_type": "markdown",
   "metadata": {
    "deletable": true,
    "editable": true
   },
   "source": [
    "# Digit classification "
   ]
  },
  {
   "cell_type": "markdown",
   "metadata": {
    "deletable": true,
    "editable": true
   },
   "source": [
    "We are using [MNIST](http://yann.lecun.com/exdb/mnist/) as our dataset. Lets start with [cool visualization](http://scs.ryerson.ca/~aharley/vis/). The most beautiful demo is the second one, if you are not familiar with convolutions you can return to it in several lectures. "
   ]
  },
  {
   "cell_type": "code",
   "execution_count": 4,
   "metadata": {
    "collapsed": false,
    "deletable": true,
    "editable": true
   },
   "outputs": [],
   "source": [
    "import os\n",
    "from sklearn.datasets import fetch_mldata\n",
    "\n",
    "# Fetch MNIST dataset and create a local copy.\n",
    "if os.path.exists('mnist.npz'):\n",
    "    with np.load('mnist.npz', 'r') as data:\n",
    "        X = data['X']\n",
    "        Y = data['Y']\n",
    "else:\n",
    "    mnist = fetch_mldata(\"mnist-original\")\n",
    "    X, Y = mnist.data / 255.0, mnist.target\n",
    "    np.savez('mnist.npz', X=X, y=Y)"
   ]
  },
  {
   "cell_type": "code",
   "execution_count": 5,
   "metadata": {
    "collapsed": true,
    "deletable": true,
    "editable": true
   },
   "outputs": [],
   "source": [
    "Y = Y[:, 0]"
   ]
  },
  {
   "cell_type": "code",
   "execution_count": 8,
   "metadata": {
    "collapsed": true
   },
   "outputs": [],
   "source": [
    "from sklearn.model_selection import train_test_split\n",
    "X_train, X_test, y_train, y_test = train_test_split(X, Y, test_size=1/6)"
   ]
  },
  {
   "cell_type": "code",
   "execution_count": 9,
   "metadata": {
    "collapsed": true,
    "editable": true
   },
   "outputs": [],
   "source": [
    "def get_cur_update_state(state, config, cur_dx, calculation, name, i):\n",
    "    turn_number = state.setdefault('turn number', 1)\n",
    "    \n",
    "    cur = state['{} moment'.format(name)].setdefault(i, np.zeros_like(cur_dx))\n",
    "\n",
    "    np.add(config['beta {}'.format(name)] * cur,\n",
    "           (1 - config['beta {}'.format(name)]) * calculation(cur_dx),\n",
    "           out = cur)\n",
    "    \n",
    "    state['{} moment'.format(name)][i] = cur\n",
    "    \n",
    "    if turn_number < config['stop {} bias correction'.format(name)]:\n",
    "        cur = cur / (1 - config['beta {}'.format(name)] ** turn_number)\n",
    "\n",
    "    return cur\n",
    "\n",
    "\n",
    "def gradient_step(x, dx, config, state):\n",
    "    \"\"\"        \n",
    "        config:\n",
    "            - momentum\n",
    "            - learning_rate\n",
    "        state:\n",
    "            - old_grad\n",
    "    \"\"\"\n",
    "    \n",
    "    state.setdefault('first moment', {})\n",
    "    state.setdefault('second moment', {})\n",
    "    \n",
    "    i = 0 \n",
    "    for cur_layer_x, cur_layer_dx in zip(x, dx): \n",
    "        for cur_x, cur_dx in zip(cur_layer_x, cur_layer_dx):\n",
    "            cur_first = get_cur_update_state(state, config, cur_dx,\n",
    "                                             lambda x: x, 'first', i)\n",
    "            cur_second = get_cur_update_state(state, config, cur_dx,\n",
    "                                              lambda x: x ** 2, 'second', i)\n",
    "\n",
    "            cur_x -= config['learning rate'] * cur_first / (np.sqrt(cur_second) + 1e-7)\n",
    "            i += 1"
   ]
  },
  {
   "cell_type": "markdown",
   "metadata": {
    "deletable": true,
    "editable": true
   },
   "source": [
    "- **Compare** `ReLU`, `ELU` activation functions. \n",
    "You would better pick the best optimizer params for each of them, but it is overkill for now. Use an architecture of your choice for the comparison."
   ]
  },
  {
   "cell_type": "code",
   "execution_count": 40,
   "metadata": {
    "collapsed": true,
    "deletable": true,
    "editable": true
   },
   "outputs": [],
   "source": [
    "criterion = ClassNLLCriterion()\n",
    "# default slope (0.03) ~ simple ReLU\n",
    "# tried 0.1 slope - awful\n",
    "# trying 0.05 slope - a bit worser that ReLU, but in fact quite the same\n",
    "# trying 0.01 slope - same thing for this attempt\n",
    "\n",
    "net = Sequential()\n",
    "net.add(Linear(X.shape[1], 100))\n",
    "net.add(Dropout())\n",
    "net.add(LeakyReLU(0.01))\n",
    "net.add(Linear(100, 10))\n",
    "net.add(SoftMax())\n",
    "\n",
    "optimizer_config = {'learning rate': 2e-6, 'beta first': 0.9, 'beta second': 0.9, 'bias role': 0.05}\n",
    "optimizer_config['stop first bias correction'] = (np.log(optimizer_config['bias role']) /\n",
    "                                                  np.log(optimizer_config['beta first']))\n",
    "optimizer_config['stop second bias correction'] = (np.log(optimizer_config['bias role']) /\n",
    "                                                   np.log(optimizer_config['beta second']))\n",
    "\n",
    "optimizer_state = {}\n",
    "\n",
    "# Looping params\n",
    "n_epoch = 1\n",
    "batch_size = 1"
   ]
  },
  {
   "cell_type": "code",
   "execution_count": 41,
   "metadata": {
    "collapsed": false,
    "deletable": true,
    "editable": true
   },
   "outputs": [
    {
     "data": {
      "image/png": "[encoded data removed]",
      "text/plain": [
       "<matplotlib.figure.Figure at 0x7f6422e1b4e0>"
      ]
     },
     "metadata": {},
     "output_type": "display_data"
    },
    {
     "name": "stdout",
     "output_type": "stream",
     "text": [
      "Current loss: 4.188559\n"
     ]
    }
   ],
   "source": [
    "loss_history = []\n",
    "\n",
    "for i in range(n_epoch):\n",
    "    for x_batch, y_batch in get_batches((X_train, y_train), batch_size):\n",
    "        net.zeroGradParameters()\n",
    "\n",
    "        # Forward\n",
    "        predictions = net.forward(x_batch)\n",
    "        loss = criterion.forward(predictions, y_batch)\n",
    "    \n",
    "        # Backward\n",
    "        dp = criterion.backward(predictions, y_batch)\n",
    "        net.backward(x_batch, dp)\n",
    "        \n",
    "        # Update weights\n",
    "        gradient_step(net.getParameters(), \n",
    "                      net.getGradParameters(), \n",
    "                      optimizer_config,\n",
    "                      optimizer_state)\n",
    "        \n",
    "        optimizer_state['turn number'] += 1\n",
    "        loss_history.append(loss)\n",
    "\n",
    "    # Visualize\n",
    "    display.clear_output(wait=True)\n",
    "    plt.figure(figsize=(8, 6))\n",
    "        \n",
    "    plt.title(\"Training loss\")\n",
    "    plt.xlabel(\"#iteration\")\n",
    "    plt.ylabel(\"loss\")\n",
    "    plt.plot(loss_history, 'b')\n",
    "    plt.show()\n",
    "    \n",
    "    print('Current loss: %f' % loss)  \n",
    "# Your code goes here. ################################################"
   ]
  },
  {
   "cell_type": "code",
   "execution_count": 32,
   "metadata": {
    "collapsed": true
   },
   "outputs": [],
   "source": [
    "criterion = ClassNLLCriterion()\n",
    "\n",
    "net = Sequential()\n",
    "net.add(Linear(X.shape[1], 100))\n",
    "net.add(Dropout())\n",
    "net.add(ReLU())\n",
    "net.add(Linear(100, 10))\n",
    "net.add(SoftMax())\n",
    "\n",
    "optimizer_config = {'learning rate': 2e-6, 'beta first': 0.9, 'beta second': 0.9, 'bias role': 0.05}\n",
    "optimizer_config['stop first bias correction'] = (np.log(optimizer_config['bias role']) /\n",
    "                                                  np.log(optimizer_config['beta first']))\n",
    "optimizer_config['stop second bias correction'] = (np.log(optimizer_config['bias role']) /\n",
    "                                                   np.log(optimizer_config['beta second']))\n",
    "\n",
    "optimizer_state = {}\n",
    "\n",
    "# Looping params\n",
    "n_epoch = 1\n",
    "batch_size = 1"
   ]
  },
  {
   "cell_type": "code",
   "execution_count": 33,
   "metadata": {
    "collapsed": false
   },
   "outputs": [
    {
     "data": {
      "image/png": "[encoded data removed]",
      "text/plain": [
       "<matplotlib.figure.Figure at 0x7f6422f18eb8>"
      ]
     },
     "metadata": {},
     "output_type": "display_data"
    },
    {
     "name": "stdout",
     "output_type": "stream",
     "text": [
      "Current loss: 7.334421\n"
     ]
    }
   ],
   "source": [
    "loss_history = []\n",
    "\n",
    "for i in range(n_epoch):\n",
    "    for x_batch, y_batch in get_batches((X_train, y_train), batch_size):\n",
    "        net.zeroGradParameters()\n",
    "\n",
    "        # Forward\n",
    "        predictions = net.forward(x_batch)\n",
    "        loss = criterion.forward(predictions, y_batch)\n",
    "    \n",
    "        # Backward\n",
    "        dp = criterion.backward(predictions, y_batch)\n",
    "        net.backward(x_batch, dp)\n",
    "        \n",
    "        # Update weights\n",
    "        gradient_step(net.getParameters(), \n",
    "                      net.getGradParameters(), \n",
    "                      optimizer_config,\n",
    "                      optimizer_state)\n",
    "        \n",
    "        optimizer_state['turn number'] += 1\n",
    "        loss_history.append(loss)\n",
    "\n",
    "    # Visualize\n",
    "    display.clear_output(wait=True)\n",
    "    plt.figure(figsize=(8, 6))\n",
    "        \n",
    "    plt.title(\"Training loss\")\n",
    "    plt.xlabel(\"#iteration\")\n",
    "    plt.ylabel(\"loss\")\n",
    "    plt.plot(loss_history, 'b')\n",
    "    plt.show()\n",
    "    \n",
    "    print('Current loss: %f' % loss)  \n",
    "# Your code goes here. ################################################"
   ]
  },
  {
   "cell_type": "markdown",
   "metadata": {},
   "source": [
    "So, let's dont bother with LeakyReLU due to it all in all gives the same."
   ]
  },
  {
   "cell_type": "markdown",
   "metadata": {
    "deletable": true,
    "editable": true
   },
   "source": [
    "**Finally**, use all your knowledge to build a super cool model on this dataset, do not forget to split dataset into train and validation. Use **dropout** to prevent overfitting, play with **learning rate decay**. You can use **data augmentation** such as rotations, translations to boost your score. Use your knowledge and imagination to train a model. "
   ]
  },
  {
   "cell_type": "code",
   "execution_count": 88,
   "metadata": {
    "collapsed": true,
    "deletable": true,
    "editable": true
   },
   "outputs": [],
   "source": [
    "criterion = ClassNLLCriterion()\n",
    "drop_prob = 0.7\n",
    "\n",
    "net = Sequential()\n",
    "net.add(Linear(X.shape[1], 200))\n",
    "net.add(Dropout(1 - drop_prob))\n",
    "net.add(ReLU())\n",
    "net.add(Linear(200, 50))\n",
    "net.add(Dropout(1 - drop_prob))\n",
    "net.add(ReLU())\n",
    "net.add(Linear(50, 10))\n",
    "net.add(SoftMax())\n",
    "\n",
    "# Iptimizer params\n",
    "# playing with lr and dr. net architecture: X.shape[1] -> 200 -> 50 -> 10, drop_prob = 0.5\n",
    "# lr 6.75e-7, dr 1 - quite poor result\n",
    "# lr 2e-6, dr 0.2 - way better, but it's not enough\n",
    "# lr 1e-6, dr 0.2 - too little lr\n",
    "# lr 1.5e-6, dr 0.2 - too little lr\n",
    "# lr 2e-6, dr 1 - dr too strong (stable loss after decrising)\n",
    "# lr 1.8e-6, dr 0.2 - looks better (loss around 6 at the end)\n",
    "# lr 1.7e-6, dr 0.05 - too little lr\n",
    "\n",
    "# from this point change drop_prob to 0.75\n",
    "\n",
    "# lr 1.75e-6, dr 0.01 - looks mutch better, probably should try even higher drop_prob\n",
    "# But now looks like lr is too small with this drop_prob (dp futher).\n",
    "\n",
    "# dp = 0.8, lr 2e-6, dr 0 - even better, low lr\n",
    "# dp = 0.8, lr 4e-6, dr 0\n",
    "# dp = 0.7, lr 4e-6, dr 0\n",
    "# dp = 0.7, lr 2e-5\n",
    "# dp = 0.7, lr 5e-6\n",
    "# dp = 0.7, lr 1.25e-5 - хуёво, честно говоря хз чё делать\n",
    "# dp = 0.7, lr 1.4, dr 0.1\n",
    "\n",
    "\n",
    "\n",
    "optimizer_config = {'learning rate' : 1.5e-5,\n",
    "                    'beta first': 0.9,\n",
    "                    'beta second': 0.9,\n",
    "                    'bias role': 0.05,\n",
    "                    'decay rate': 0.1}\n",
    "optimizer_config['stop first bias correction'] = (np.log(optimizer_config['bias role']) /\n",
    "                                                  np.log(optimizer_config['beta first']))\n",
    "optimizer_config['stop second bias correction'] = (np.log(optimizer_config['bias role']) /\n",
    "                                                   np.log(optimizer_config['beta second']))\n",
    "\n",
    "optimizer_state = {}\n",
    "\n",
    "# Looping params\n",
    "n_epoch = 2\n",
    "batch_size = 1"
   ]
  },
  {
   "cell_type": "code",
   "execution_count": 89,
   "metadata": {
    "collapsed": false,
    "deletable": true,
    "editable": true
   },
   "outputs": [
    {
     "data": {
      "image/png": "[encoded data removed]",
      "text/plain": [
       "<matplotlib.figure.Figure at 0x7f6422db7dd8>"
      ]
     },
     "metadata": {},
     "output_type": "display_data"
    },
    {
     "name": "stdout",
     "output_type": "stream",
     "text": [
      "Current loss: 2.709450\n"
     ]
    }
   ],
   "source": [
    "loss_history = []\n",
    "lenght = 25000\n",
    "\n",
    "for i in range(n_epoch):\n",
    "    for j, (x_batch, y_batch) in enumerate(get_batches((X_train, y_train), batch_size)):\n",
    "        net.zeroGradParameters()\n",
    "\n",
    "        # Forward\n",
    "        predictions = net.forward(x_batch)\n",
    "        loss = criterion.forward(predictions, y_batch)\n",
    "    \n",
    "        # Backward\n",
    "        dp = criterion.backward(predictions, y_batch)\n",
    "        net.backward(x_batch, dp)\n",
    "        \n",
    "        # Update weights\n",
    "        gradient_step(net.getParameters(), \n",
    "                      net.getGradParameters(), \n",
    "                      optimizer_config,\n",
    "                      optimizer_state)\n",
    "        \n",
    "        optimizer_state['turn number'] += 1\n",
    "        loss_history.append(loss)\n",
    "        if (j + 1) % lenght == 0:\n",
    "            optimizer_config['learning rate'] /= np.exp(optimizer_config['decay rate'])\n",
    "\n",
    "            # Visualize\n",
    "            display.clear_output(wait=True)\n",
    "            plt.figure(figsize=(8, 6))\n",
    "\n",
    "            plt.title(\"Training loss\")\n",
    "            plt.xlabel(\"#iteration\")\n",
    "            plt.ylabel(\"loss\")\n",
    "            plt.plot(loss_history, 'b')\n",
    "            plt.show()\n",
    "\n",
    "            print('Current loss: %f' % loss)  "
   ]
  },
  {
   "cell_type": "code",
   "execution_count": 82,
   "metadata": {
    "collapsed": true
   },
   "outputs": [],
   "source": [
    "predictions = net.forward(X_test)"
   ]
  },
  {
   "cell_type": "markdown",
   "metadata": {
    "deletable": true,
    "editable": true
   },
   "source": [
    "Print here your accuracy. It should be around 90%."
   ]
  },
  {
   "cell_type": "code",
   "execution_count": 83,
   "metadata": {
    "collapsed": false
   },
   "outputs": [
    {
     "data": {
      "text/plain": [
       "0.15429999999999999"
      ]
     },
     "execution_count": 83,
     "metadata": {},
     "output_type": "execute_result"
    }
   ],
   "source": [
    "from sklearn.metrics import accuracy_score\n",
    "accuracy_score(np.argmax(predictions, axis=1), y_test)\n",
    "# Your answer goes here. ################################################"
   ]
  },
  {
   "cell_type": "markdown",
   "metadata": {
    "deletable": true,
    "editable": true
   },
   "source": [
    "**Оформление дз**: заполните форму тут https://goo.gl/forms/Jx3OR5Ijjg2MwfKs2 \n",
    "----------\n",
    "**PS**: Напоминаем, что дедлайны жесткие, прием дз заканчивается ровно в дедлайн"
   ]
  },
  {
   "cell_type": "markdown",
   "metadata": {
    "deletable": true,
    "editable": true
   },
   "source": [
    "# Bonus Part: Autoencoder "
   ]
  },
  {
   "cell_type": "markdown",
   "metadata": {
    "deletable": true,
    "editable": true
   },
   "source": [
    "This part is **OPTIONAL**, you may not do it. It will not be scored, but it is easy and interesting."
   ]
  },
  {
   "cell_type": "markdown",
   "metadata": {
    "deletable": true,
    "editable": true
   },
   "source": [
    "Now we are going to build a cool model, named autoencoder. The aim is simple: **encode** the data to a lower dimentional representation. Why? Well, if we can **decode** this representation back to original data with \"small\" reconstuction loss then we can store only compressed representation saving memory. But the most important thing is -- we can reuse trained autoencoder for classification. \n",
    "<img src=\"autoencoder.png\">\n",
    "\n",
    "Picture from this [site](http://multithreaded.stitchfix.com/blog/2015/09/17/deep-style/)."
   ]
  },
  {
   "cell_type": "markdown",
   "metadata": {
    "deletable": true,
    "editable": true
   },
   "source": [
    "Now implement an autoencoder:\n",
    "\n",
    "Build it such that dimetionality inside autoencoder changes like that: \n",
    "\n",
    "$$784 \\text{ (data)} -> 512 -> 256 -> 128 -> 30 -> 128 -> 256 -> 512 -> 784$$\n",
    "\n",
    "Use **MSECriterion** to score the reconstruction.\n",
    "\n",
    "You may train it for 9 epochs with batch size = 256, initial lr = 0.1 droping by a factor of 2 every 3 epochs. The reconstruction loss should be about 6.0 and visual quality decent already.\n",
    "Do not spend time on changing architecture, they are more or less the same. "
   ]
  },
  {
   "cell_type": "code",
   "execution_count": 11,
   "metadata": {
    "collapsed": true,
    "deletable": true,
    "editable": true
   },
   "outputs": [],
   "source": [
    "# Iptimizer params\n",
    "optimizer_config = {'learning rate' : 0.005, 'beta first': 0.9, 'beta second': 0.9}\n",
    "optimizer_config['stop first bias correction'] = np.log(0.01) / np.log(optimizer_config['beta first'])\n",
    "optimizer_config['stop second bias correction'] = np.log(0.01) / np.log(optimizer_config['beta second'])\n",
    "\n",
    "optimizer_state = {'turn number': 1}\n",
    "\n",
    "# Looping params\n",
    "n_epoch = 10\n",
    "batch_size = 600\n",
    "# Your code goes here. ################################################"
   ]
  },
  {
   "cell_type": "markdown",
   "metadata": {
    "deletable": true,
    "editable": true
   },
   "source": [
    "Some time ago NNs were a lot poorer and people were struggling to learn deep models. To train a classification net people were training autoencoder first (to train autoencoder people were pretraining single layers with [RBM](https://en.wikipedia.org/wiki/Restricted_Boltzmann_machine)), then substituting the decoder part with classification layer (yeah, they were struggling with training autoencoders a lot, and complex techniques were used at that dark times). We are going to this now, fast and easy.  "
   ]
  },
  {
   "cell_type": "code",
   "execution_count": 12,
   "metadata": {
    "collapsed": false,
    "deletable": true,
    "editable": true
   },
   "outputs": [
    {
     "ename": "NameError",
     "evalue": "name 'autoenc' is not defined",
     "output_type": "error",
     "traceback": [
      "\u001b[0;31m---------------------------------------------------------------------------\u001b[0m",
      "\u001b[0;31mNameError\u001b[0m                                 Traceback (most recent call last)",
      "\u001b[0;32m<ipython-input-12-6e5d82b1afaa>\u001b[0m in \u001b[0;36m<module>\u001b[0;34m()\u001b[0m\n\u001b[1;32m     16\u001b[0m \u001b[0;34m\u001b[0m\u001b[0m\n\u001b[1;32m     17\u001b[0m \u001b[0;31m# And add learned layers ontop.\u001b[0m\u001b[0;34m\u001b[0m\u001b[0;34m\u001b[0m\u001b[0m\n\u001b[0;32m---> 18\u001b[0;31m \u001b[0mautoenc\u001b[0m\u001b[0;34m.\u001b[0m\u001b[0madd\u001b[0m\u001b[0;34m(\u001b[0m\u001b[0mcnet\u001b[0m\u001b[0;34m[\u001b[0m\u001b[0;36m0\u001b[0m\u001b[0;34m]\u001b[0m\u001b[0;34m)\u001b[0m\u001b[0;34m\u001b[0m\u001b[0m\n\u001b[0m\u001b[1;32m     19\u001b[0m \u001b[0mautoenc\u001b[0m\u001b[0;34m.\u001b[0m\u001b[0madd\u001b[0m\u001b[0;34m(\u001b[0m\u001b[0mcnet\u001b[0m\u001b[0;34m[\u001b[0m\u001b[0;36m1\u001b[0m\u001b[0;34m]\u001b[0m\u001b[0;34m)\u001b[0m\u001b[0;34m\u001b[0m\u001b[0m\n\u001b[1;32m     20\u001b[0m \u001b[0;34m\u001b[0m\u001b[0m\n",
      "\u001b[0;31mNameError\u001b[0m: name 'autoenc' is not defined"
     ]
    }
   ],
   "source": [
    "# Extract inner representation for train and validation, \n",
    "# you should get (n_samples, 30) matrices\n",
    "# Your code goes here. ################################################\n",
    "\n",
    "# Now build a logistic regression or small classification net\n",
    "cnet = Sequential()\n",
    "cnet.add(Linear(30, 2))\n",
    "cnet.add(SoftMax())\n",
    "\n",
    "# Learn the weights\n",
    "# Your code goes here. ################################################\n",
    "\n",
    "# Now chop off decoder part\n",
    "# (you may need to implement `remove` method for Sequential container) \n",
    "# Your code goes here. ################################################\n",
    "\n",
    "# And add learned layers ontop.\n",
    "autoenc.add(cnet[0])\n",
    "autoenc.add(cnet[1])\n",
    "\n",
    "# Now optimize whole model\n",
    "# Your code goes here. ################################################"
   ]
  },
  {
   "cell_type": "markdown",
   "metadata": {
    "deletable": true,
    "editable": true
   },
   "source": [
    "* What do you think, does it make sense to build real-world classifiers this way ? Did it work better for you than a straightforward one? Looks like it was not the same ~8 years ago, what has changed beside computational power? "
   ]
  },
  {
   "cell_type": "markdown",
   "metadata": {
    "deletable": true,
    "editable": true
   },
   "source": [
    "Run PCA with 30 components on the *train set*, plot original image, autoencoder and PCA reconstructions side by side for 10 samples from *validation set*.\n",
    "Probably you need to use the following snippet to make aoutpencoder examples look comparible."
   ]
  },
  {
   "cell_type": "code",
   "execution_count": null,
   "metadata": {
    "collapsed": true,
    "deletable": true,
    "editable": true
   },
   "outputs": [],
   "source": [
    "# np.clip(prediction,0,1)\n",
    "#\n",
    "# Your code goes here. ################################################"
   ]
  }
 ],
 "metadata": {
  "kernelspec": {
   "display_name": "Python 3",
   "language": "python",
   "name": "python3"
  },
  "language_info": {
   "codemirror_mode": {
    "name": "ipython",
    "version": 3
   },
   "file_extension": ".py",
   "mimetype": "text/x-python",
   "name": "python",
   "nbconvert_exporter": "python",
   "pygments_lexer": "ipython3",
   "version": "3.5.2"
  }
 },
 "nbformat": 4,
 "nbformat_minor": 0
}
