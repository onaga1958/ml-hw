{
 "cells": [
  {
   "cell_type": "code",
   "execution_count": 1,
   "metadata": {
    "collapsed": true
   },
   "outputs": [],
   "source": [
    "from sklearn.datasets import load_boston\n",
    "from sklearn.tree import DecisionTreeRegressor\n",
    "import numpy as np\n",
    "import matplotlib.pyplot as pl\n",
    "from pandas import DataFrame\n",
    "from sklearn.metrics import mean_squared_error\n",
    "\n",
    "%matplotlib inline"
   ]
  },
  {
   "cell_type": "code",
   "execution_count": 2,
   "metadata": {
    "collapsed": true
   },
   "outputs": [],
   "source": [
    "class Empty_exception(BaseException):\n",
    "    pass\n",
    "\n",
    "def penalty(sample, answers, quan, tag):\n",
    "    left, right = [], []\n",
    "    for elem, ind in zip(sample, range(len(sample))):\n",
    "        if elem[tag] <= quan:\n",
    "            left.append(ind)\n",
    "        else:\n",
    "            right.append(ind)\n",
    "    \n",
    "    if len(left) == 0 or len(right) == 0:\n",
    "        raise Empty_exception()\n",
    "    \n",
    "    return (len(left) * MSE(answers[left]) + len(right) * MSE(answers[right])) / (len(left) + len(right))\n",
    "    \n",
    "def MSE(arr):\n",
    "    return np.mean((arr - np.mean(arr))**2)   "
   ]
  },
  {
   "cell_type": "code",
   "execution_count": 3,
   "metadata": {
    "collapsed": false
   },
   "outputs": [],
   "source": [
    "class Node:\n",
    "    \n",
    "    def __init__(self, sample, answers, quantiles, max_lvl_below, min_elem_leaf):\n",
    "        self.best_params = [None, None, None]\n",
    "        self.left_son = None\n",
    "        self.right_son = None\n",
    "        if max_lvl_below > 0 and len(sample) >= min_elem_leaf:\n",
    "            for tag in range(len(quantiles)):\n",
    "                for quan in quantiles[tag]:\n",
    "                    try:\n",
    "                        current_penalty = penalty(sample, answers, quan, tag)\n",
    "                    except(Empty_exception):\n",
    "                        continue\n",
    "                    if self.best_params[0] == None or self.best_params[0] > current_penalty:\n",
    "                        self.best_params = [current_penalty, tag, quan]\n",
    "            left, right = [], []\n",
    "            for elem, ind in zip(sample, range(len(sample))):\n",
    "                if elem[self.best_params[1]] <= self.best_params[2]:\n",
    "                    left.append(ind)\n",
    "                else:\n",
    "                    right.append(ind)\n",
    "            \n",
    "            self.left_son = Node(sample[left], answers[left], quantiles, max_lvl_below - 1, min_elem_leaf)\n",
    "            self.right_son = Node(sample[right], answers[right], quantiles, max_lvl_below - 1, min_elem_leaf)\n",
    "        else:\n",
    "            self.prediction = np.mean(answers)\n",
    "\n",
    "    def predict(self, elem):\n",
    "        if self.left_son == None:\n",
    "            return self.prediction\n",
    "        else:\n",
    "            if elem[self.best_params[1]] <= self.best_params[2]:\n",
    "                return self.left_son.predict(elem)\n",
    "            else:\n",
    "                return self.right_son.predict(elem)\n",
    "\n",
    "    \n",
    "class decision_tree:\n",
    "    \n",
    "    def __init__(self, max_h, min_elem_in_leaf=2):\n",
    "        self.max_height = max_h\n",
    "        self.min_elem_leaf = min_elem_in_leaf\n",
    "    \n",
    "    def fit(self, sample, answers):\n",
    "        quantiles = [[sorted(tag_sample)[int(j * len(tag_sample))] \n",
    "                           for j in np.linspace(0.1, 0.9, 5)] for tag_sample in sample.T]\n",
    "        self.head = Node(sample, answers, quantiles, self.max_height, self.min_elem_leaf)\n",
    "    \n",
    "    def predict(self, sample):\n",
    "        return [self.head.predict(i) for i in sample]"
   ]
  },
  {
   "cell_type": "code",
   "execution_count": 4,
   "metadata": {
    "collapsed": false
   },
   "outputs": [],
   "source": [
    "boston = load_boston()\n",
    "\n",
    "train_data = boston['data'][:380]\n",
    "train_target = boston['target'][:380]\n",
    "test_data = boston['data'][380:]\n",
    "test_target = boston['target'][380:]"
   ]
  },
  {
   "cell_type": "code",
   "execution_count": 5,
   "metadata": {
    "collapsed": true
   },
   "outputs": [],
   "source": [
    "trees = [decision_tree(3, 2), DecisionTreeRegressor(max_depth=5)]\n",
    "predictions = []\n",
    "\n",
    "for tree in trees:\n",
    "    tree.fit(train_data, train_target)\n",
    "    predictions.append(tree.predict(test_data))"
   ]
  },
  {
   "cell_type": "markdown",
   "metadata": {},
   "source": [
    "Сравним ошибку моего дерева с ошибкой sklearn'овского дерева и классификатора, который просто выдает среднее значение на обучающей выборке."
   ]
  },
  {
   "cell_type": "code",
   "execution_count": 7,
   "metadata": {
    "collapsed": false
   },
   "outputs": [
    {
     "name": "stdout",
     "output_type": "stream",
     "text": [
      "my_tree=41.29970359680129, sklearn_tree=38.517708539843554, constant=129.99148242096467\n"
     ]
    }
   ],
   "source": [
    "print(\"my_tree={}, sklearn_tree={}, constant={}\".format(mean_squared_error(predictions[0], test_target), \n",
    "      mean_squared_error(predictions[1], test_target),\n",
    "      mean_squared_error([np.mean(train_target) for i in predictions[0]], test_target)))"
   ]
  },
  {
   "cell_type": "markdown",
   "metadata": {
    "collapsed": true
   },
   "source": [
    "Видим, что мое дерево неплохо работает)"
   ]
  }
 ],
 "metadata": {
  "kernelspec": {
   "display_name": "Python 3",
   "language": "python",
   "name": "python3"
  },
  "language_info": {
   "codemirror_mode": {
    "name": "ipython",
    "version": 3
   },
   "file_extension": ".py",
   "mimetype": "text/x-python",
   "name": "python",
   "nbconvert_exporter": "python",
   "pygments_lexer": "ipython3",
   "version": "3.5.2"
  }
 },
 "nbformat": 4,
 "nbformat_minor": 2
}
