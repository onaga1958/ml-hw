{
 "cells": [
  {
   "cell_type": "markdown",
   "metadata": {},
   "source": [
    "# В наивном байессовском классификаторе мы выбираем для объекта с признаками $x$ такой класс $y$, у которого  $P(y|x)$ наибольшая. По формуле Байеса:\n",
    "# $P(y|x) = \\frac{P(x|y)P(y)}{P(x)}$.\n",
    "# Но так как максимизация идет по $y$ знаменатель вообще не важен, а $P(y)$ по условию равны для любого $y$, то выбран будет класс с наибольшей $P(x|y)$.\n",
    "# Давайте теперь посмотрим что же из себя представляет $P(x|y)$. Во-первых, мы знаем, что \n",
    "# $P(x^{(k)}|y) = \\frac{1}{\\sqrt{2\\pi\\sigma^2}}e^{-\\frac{(x^{(k)} - \\mu_{yk})^2}{2\\sigma^2}}$,\n",
    "# а во-вторых, в наивном байессовском классификаторе мы предполагаем, что все признаки независимы. Тогда имеем:\n",
    "# $P(x|y) = \\prod\\limits_{k=1}^n \\frac{1}{\\sqrt{2\\pi\\sigma^2}}e^{-\\frac{(x^{(k)} - \\mu_{yk})^2}{2\\sigma^2}} = \\frac{1}{(\\sqrt{2\\pi\\sigma^2})^n}e^{-\\frac{\\sum\\limits_{k=1}^n (x^{(k)} - \\mu_{yk})^2}{2\\sigma^2}}$\n",
    "# То есть, максимизируя $P(x|y)$, мы на самом деле минимизируем $\\sum\\limits_{k=1}^n (x^{(k)} - \\mu_{yk})^2$, а это расстояние до $\\mu_y$. Что и требовалось показать."
   ]
  }
 ],
 "metadata": {
  "kernelspec": {
   "display_name": "Python 3",
   "language": "python",
   "name": "python3"
  },
  "language_info": {
   "codemirror_mode": {
    "name": "ipython",
    "version": 3
   },
   "file_extension": ".py",
   "mimetype": "text/x-python",
   "name": "python",
   "nbconvert_exporter": "python",
   "pygments_lexer": "ipython3",
   "version": "3.5.2"
  }
 },
 "nbformat": 4,
 "nbformat_minor": 2
}
