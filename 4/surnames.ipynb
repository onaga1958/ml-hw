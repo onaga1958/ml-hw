{
 "cells": [
  {
   "cell_type": "code",
   "execution_count": 15,
   "metadata": {
    "collapsed": false,
    "deletable": true,
    "editable": true
   },
   "outputs": [],
   "source": [
    "import pandas as pd\n",
    "from sklearn.linear_model import SGDClassifier\n",
    "from sklearn.model_selection import cross_val_score\n",
    "import numpy as np\n",
    "import matplotlib.pyplot as pl\n",
    "from sklearn.feature_extraction.text import CountVectorizer\n",
    "\n",
    "%matplotlib inline"
   ]
  },
  {
   "cell_type": "code",
   "execution_count": 16,
   "metadata": {
    "collapsed": true,
    "deletable": true,
    "editable": true
   },
   "outputs": [],
   "source": [
    "data = pd.read_csv(\"linear_train.txt\", header=None).values.T"
   ]
  },
  {
   "cell_type": "code",
   "execution_count": 17,
   "metadata": {
    "collapsed": true,
    "deletable": true,
    "editable": true
   },
   "outputs": [],
   "source": [
    "test_data = list(map(lambda x: x[0], np.array(pd.read_csv(\"linear_test.txt\", header=None))))"
   ]
  },
  {
   "cell_type": "code",
   "execution_count": 18,
   "metadata": {
    "collapsed": false,
    "deletable": true,
    "editable": true
   },
   "outputs": [],
   "source": [
    "letter_dict = {}\n",
    "bigramm_dict = {}\n",
    "trigramm_dict = {}\n",
    "letter_index = []\n",
    "bigramm_index = []\n",
    "trigramm_index = []\n",
    "\n",
    "\n",
    "def add_in_dict(d, l, elem):\n",
    "        if d.get(elem) is None:\n",
    "            d[elem] = len(d)\n",
    "            l.append(elem)\n",
    "\n",
    "for surname in data[0]:\n",
    "    for i in range(len(surname) - 2):\n",
    "        add_in_dict(trigramm_dict, trigramm_index, surname[i:i + 3])\n",
    "        add_in_dict(bigramm_dict, bigramm_index, surname[i:i + 2])\n",
    "        add_in_dict(letter_dict, letter_index, surname[i])\n",
    "    add_in_dict(letter_dict, letter_index, surname[-1])\n",
    "    if len(surname) > 1:\n",
    "        add_in_dict(letter_dict, letter_index, surname[-2])\n",
    "        add_in_dict(bigramm_dict, bigramm_index, surname[-2:])"
   ]
  },
  {
   "cell_type": "code",
   "execution_count": 19,
   "metadata": {
    "collapsed": true,
    "deletable": true,
    "editable": true
   },
   "outputs": [],
   "source": [
    "tri_num = len(trigramm_dict)\n",
    "bi_num = len(bigramm_dict)"
   ]
  },
  {
   "cell_type": "code",
   "execution_count": 20,
   "metadata": {
    "collapsed": false,
    "deletable": true,
    "editable": true
   },
   "outputs": [],
   "source": [
    "def get_features(data, valid_indexes):\n",
    "    def elem_index(elem):\n",
    "        if len(elem) == 3:\n",
    "            return trigramm_dict[elem]\n",
    "        if len(elem) == 2:\n",
    "            return bigramm_dict[elem] + tri_num\n",
    "        if len(elem) == 1:\n",
    "            return letter_dict[elem] + tri_num + bi_num\n",
    "\n",
    "\n",
    "    def try_to_add(features, d, elem, valid_indexes):\n",
    "        if d.get(elem) is not None:\n",
    "            ind = elem_index(elem)\n",
    "            if ind in valid_indexes:\n",
    "                features[valid_indexes.index(ind)] += 1\n",
    "\n",
    "    result = np.zeros([len(data), len(valid_indexes)])\n",
    "    for i, surname in enumerate(data):\n",
    "        for j in range(len(surname) - 2):\n",
    "            try_to_add(result[i], letter_dict, surname[j], valid_indexes)\n",
    "            try_to_add(result[i], bigramm_dict, surname[j:j + 2], valid_indexes)\n",
    "            try_to_add(result[i], trigramm_dict, surname[j:j+3], valid_indexes)\n",
    "        try_to_add(result[i], letter_dict, surname[-1], valid_indexes)\n",
    "        if len(surname) > 1:\n",
    "            try_to_add(result[i], letter_dict, surname[-2], valid_indexes)\n",
    "            try_to_add(result[i], bigramm_dict, surname[-2:], valid_indexes)\n",
    "    return result"
   ]
  },
  {
   "cell_type": "code",
   "execution_count": 21,
   "metadata": {
    "collapsed": false,
    "deletable": true,
    "editable": true
   },
   "outputs": [],
   "source": [
    "def get_important_features(indexes):\n",
    "    features = get_features(data[0], indexes)\n",
    "    est = SGDClassifier(loss='log', penalty='l1')\n",
    "    est.fit(features, list(map(int, data[1] + 1)))\n",
    "    return [indexes[i] for i, coef in enumerate(est.coef_[0]) if coef != 0]"
   ]
  },
  {
   "cell_type": "code",
   "execution_count": 22,
   "metadata": {
    "collapsed": false,
    "deletable": true,
    "editable": true
   },
   "outputs": [],
   "source": [
    "parts_num = 10\n",
    "additional_indexes = ([list(range(tri_num, tri_num + bi_num + len(letter_dict)))] + \n",
    "                      [list(range(int(i*tri_num/parts_num), \n",
    "                                  int((i + 1)*tri_num/parts_num))) for i in range(parts_num)])\n",
    "                     \n",
    "current_indexes = []\n",
    "for new_ind in additional_indexes:\n",
    "    current_indexes = get_important_features(current_indexes + new_ind)"
   ]
  },
  {
   "cell_type": "code",
   "execution_count": 23,
   "metadata": {
    "collapsed": true,
    "deletable": true,
    "editable": true
   },
   "outputs": [],
   "source": [
    "train_features = get_features(data[0], current_indexes)"
   ]
  },
  {
   "cell_type": "code",
   "execution_count": 24,
   "metadata": {
    "collapsed": true,
    "deletable": true,
    "editable": true
   },
   "outputs": [],
   "source": [
    "estimator = SGDClassifier(loss='log', penalty='l1')"
   ]
  },
  {
   "cell_type": "code",
   "execution_count": 25,
   "metadata": {
    "collapsed": false,
    "deletable": true,
    "editable": true
   },
   "outputs": [
    {
     "data": {
      "text/plain": [
       "array([ 0.85607928,  0.82585544,  0.87205404,  0.89946255,  0.87747153])"
      ]
     },
     "execution_count": 25,
     "metadata": {},
     "output_type": "execute_result"
    }
   ],
   "source": [
    "cross_val_score(estimator, train_features, list(map(int, data[1] + 1)), cv=5)"
   ]
  },
  {
   "cell_type": "code",
   "execution_count": 26,
   "metadata": {
    "collapsed": false,
    "deletable": true,
    "editable": true
   },
   "outputs": [
    {
     "data": {
      "text/plain": [
       "SGDClassifier(alpha=0.0001, average=False, class_weight=None, epsilon=0.1,\n",
       "       eta0=0.0, fit_intercept=True, l1_ratio=0.15,\n",
       "       learning_rate='optimal', loss='log', n_iter=5, n_jobs=1,\n",
       "       penalty='l1', power_t=0.5, random_state=None, shuffle=True,\n",
       "       verbose=0, warm_start=False)"
      ]
     },
     "execution_count": 26,
     "metadata": {},
     "output_type": "execute_result"
    }
   ],
   "source": [
    "estimator.fit(train_features, list(map(int, data[1] + 1)))"
   ]
  },
  {
   "cell_type": "code",
   "execution_count": 27,
   "metadata": {
    "collapsed": false,
    "deletable": true,
    "editable": true
   },
   "outputs": [],
   "source": [
    "test_features = get_features(test_data, current_indexes)"
   ]
  },
  {
   "cell_type": "code",
   "execution_count": 28,
   "metadata": {
    "collapsed": true,
    "deletable": true,
    "editable": true
   },
   "outputs": [],
   "source": [
    "final_answer = estimator.predict_proba(test_features)"
   ]
  },
  {
   "cell_type": "code",
   "execution_count": 29,
   "metadata": {
    "collapsed": false,
    "deletable": true,
    "editable": true
   },
   "outputs": [],
   "source": [
    "sample_submission = pd.read_csv('linear_ans_example.txt')\n",
    "sample_submission['Answer'] = final_answer\n",
    "sample_submission.to_csv(\"submission.tsv\", sep=',', index=False)"
   ]
  }
 ],
 "metadata": {
  "kernelspec": {
   "display_name": "Python 3",
   "language": "python",
   "name": "python3"
  },
  "language_info": {
   "codemirror_mode": {
    "name": "ipython",
    "version": 3
   },
   "file_extension": ".py",
   "mimetype": "text/x-python",
   "name": "python",
   "nbconvert_exporter": "python",
   "pygments_lexer": "ipython3",
   "version": "3.5.2"
  }
 },
 "nbformat": 4,
 "nbformat_minor": 2
}
